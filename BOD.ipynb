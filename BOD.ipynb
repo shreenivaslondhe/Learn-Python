{
 "cells": [
  {
   "cell_type": "code",
   "execution_count": 275,
   "id": "e7f08a41",
   "metadata": {},
   "outputs": [],
   "source": [
    "#IMPORT NECESSARY LIBRARIES\n",
    "\n",
    "import pandas as pd\n",
    "import numpy as np\n",
    "import matplotlib.pyplot as plt\n",
    "import seaborn as sns"
   ]
  },
  {
   "cell_type": "code",
   "execution_count": 276,
   "id": "69c837f9",
   "metadata": {},
   "outputs": [
    {
     "data": {
      "text/html": [
       "<div>\n",
       "<style scoped>\n",
       "    .dataframe tbody tr th:only-of-type {\n",
       "        vertical-align: middle;\n",
       "    }\n",
       "\n",
       "    .dataframe tbody tr th {\n",
       "        vertical-align: top;\n",
       "    }\n",
       "\n",
       "    .dataframe thead th {\n",
       "        text-align: right;\n",
       "    }\n",
       "</style>\n",
       "<table border=\"1\" class=\"dataframe\">\n",
       "  <thead>\n",
       "    <tr style=\"text-align: right;\">\n",
       "      <th></th>\n",
       "      <th>Date</th>\n",
       "      <th>DO</th>\n",
       "      <th>EC</th>\n",
       "      <th>TS</th>\n",
       "      <th>ALKALINITY</th>\n",
       "      <th>TDS</th>\n",
       "      <th>PH</th>\n",
       "      <th>NO3-N</th>\n",
       "      <th>BOD</th>\n",
       "    </tr>\n",
       "  </thead>\n",
       "  <tbody>\n",
       "    <tr>\n",
       "      <th>0</th>\n",
       "      <td>01-06-2010</td>\n",
       "      <td>1.4</td>\n",
       "      <td>390</td>\n",
       "      <td>262</td>\n",
       "      <td>118.0</td>\n",
       "      <td>249</td>\n",
       "      <td>7.50</td>\n",
       "      <td>1.01</td>\n",
       "      <td>4.0</td>\n",
       "    </tr>\n",
       "    <tr>\n",
       "      <th>1</th>\n",
       "      <td>02-06-2010</td>\n",
       "      <td>4.0</td>\n",
       "      <td>367</td>\n",
       "      <td>238</td>\n",
       "      <td>148.0</td>\n",
       "      <td>218</td>\n",
       "      <td>7.30</td>\n",
       "      <td>0.10</td>\n",
       "      <td>4.0</td>\n",
       "    </tr>\n",
       "    <tr>\n",
       "      <th>2</th>\n",
       "      <td>03-06-2010</td>\n",
       "      <td>2.0</td>\n",
       "      <td>352</td>\n",
       "      <td>235</td>\n",
       "      <td>138.0</td>\n",
       "      <td>216</td>\n",
       "      <td>7.47</td>\n",
       "      <td>0.25</td>\n",
       "      <td>3.6</td>\n",
       "    </tr>\n",
       "    <tr>\n",
       "      <th>3</th>\n",
       "      <td>04-06-2010</td>\n",
       "      <td>1.2</td>\n",
       "      <td>290</td>\n",
       "      <td>240</td>\n",
       "      <td>134.0</td>\n",
       "      <td>202</td>\n",
       "      <td>7.39</td>\n",
       "      <td>0.01</td>\n",
       "      <td>22.0</td>\n",
       "    </tr>\n",
       "    <tr>\n",
       "      <th>4</th>\n",
       "      <td>05-06-2010</td>\n",
       "      <td>0.4</td>\n",
       "      <td>546</td>\n",
       "      <td>348</td>\n",
       "      <td>128.0</td>\n",
       "      <td>329</td>\n",
       "      <td>7.30</td>\n",
       "      <td>0.05</td>\n",
       "      <td>9.0</td>\n",
       "    </tr>\n",
       "  </tbody>\n",
       "</table>\n",
       "</div>"
      ],
      "text/plain": [
       "         Date   DO   EC   TS  ALKALINITY  TDS    PH  NO3-N   BOD\n",
       "0  01-06-2010  1.4  390  262       118.0  249  7.50   1.01   4.0\n",
       "1  02-06-2010  4.0  367  238       148.0  218  7.30   0.10   4.0\n",
       "2  03-06-2010  2.0  352  235       138.0  216  7.47   0.25   3.6\n",
       "3  04-06-2010  1.2  290  240       134.0  202  7.39   0.01  22.0\n",
       "4  05-06-2010  0.4  546  348       128.0  329  7.30   0.05   9.0"
      ]
     },
     "execution_count": 276,
     "metadata": {},
     "output_type": "execute_result"
    }
   ],
   "source": [
    "#READ THE DATA\n",
    "data = pd.read_csv('BOD.csv')\n",
    "data.head(5)"
   ]
  },
  {
   "cell_type": "code",
   "execution_count": 277,
   "id": "44942a0b",
   "metadata": {},
   "outputs": [
    {
     "data": {
      "text/html": [
       "<div>\n",
       "<style scoped>\n",
       "    .dataframe tbody tr th:only-of-type {\n",
       "        vertical-align: middle;\n",
       "    }\n",
       "\n",
       "    .dataframe tbody tr th {\n",
       "        vertical-align: top;\n",
       "    }\n",
       "\n",
       "    .dataframe thead th {\n",
       "        text-align: right;\n",
       "    }\n",
       "</style>\n",
       "<table border=\"1\" class=\"dataframe\">\n",
       "  <thead>\n",
       "    <tr style=\"text-align: right;\">\n",
       "      <th></th>\n",
       "      <th>Date</th>\n",
       "      <th>DO</th>\n",
       "      <th>EC</th>\n",
       "      <th>TS</th>\n",
       "      <th>ALKALINITY</th>\n",
       "      <th>TDS</th>\n",
       "      <th>PH</th>\n",
       "      <th>NO3-N</th>\n",
       "      <th>BOD</th>\n",
       "    </tr>\n",
       "  </thead>\n",
       "  <tbody>\n",
       "    <tr>\n",
       "      <th>0</th>\n",
       "      <td>01-06-2010</td>\n",
       "      <td>1.40000</td>\n",
       "      <td>390</td>\n",
       "      <td>262</td>\n",
       "      <td>118.0</td>\n",
       "      <td>249</td>\n",
       "      <td>7.50</td>\n",
       "      <td>1.010</td>\n",
       "      <td>4.0</td>\n",
       "    </tr>\n",
       "    <tr>\n",
       "      <th>1</th>\n",
       "      <td>02-06-2010</td>\n",
       "      <td>4.00000</td>\n",
       "      <td>367</td>\n",
       "      <td>238</td>\n",
       "      <td>148.0</td>\n",
       "      <td>218</td>\n",
       "      <td>7.30</td>\n",
       "      <td>0.100</td>\n",
       "      <td>4.0</td>\n",
       "    </tr>\n",
       "    <tr>\n",
       "      <th>2</th>\n",
       "      <td>03-06-2010</td>\n",
       "      <td>2.00000</td>\n",
       "      <td>352</td>\n",
       "      <td>235</td>\n",
       "      <td>138.0</td>\n",
       "      <td>216</td>\n",
       "      <td>7.47</td>\n",
       "      <td>0.250</td>\n",
       "      <td>3.6</td>\n",
       "    </tr>\n",
       "    <tr>\n",
       "      <th>3</th>\n",
       "      <td>04-06-2010</td>\n",
       "      <td>1.20000</td>\n",
       "      <td>290</td>\n",
       "      <td>240</td>\n",
       "      <td>134.0</td>\n",
       "      <td>202</td>\n",
       "      <td>7.39</td>\n",
       "      <td>0.010</td>\n",
       "      <td>22.0</td>\n",
       "    </tr>\n",
       "    <tr>\n",
       "      <th>4</th>\n",
       "      <td>05-06-2010</td>\n",
       "      <td>0.40000</td>\n",
       "      <td>546</td>\n",
       "      <td>348</td>\n",
       "      <td>128.0</td>\n",
       "      <td>329</td>\n",
       "      <td>7.30</td>\n",
       "      <td>0.050</td>\n",
       "      <td>9.0</td>\n",
       "    </tr>\n",
       "    <tr>\n",
       "      <th>...</th>\n",
       "      <td>...</td>\n",
       "      <td>...</td>\n",
       "      <td>...</td>\n",
       "      <td>...</td>\n",
       "      <td>...</td>\n",
       "      <td>...</td>\n",
       "      <td>...</td>\n",
       "      <td>...</td>\n",
       "      <td>...</td>\n",
       "    </tr>\n",
       "    <tr>\n",
       "      <th>95</th>\n",
       "      <td>04-09-2010</td>\n",
       "      <td>1.00000</td>\n",
       "      <td>601</td>\n",
       "      <td>392</td>\n",
       "      <td>188.0</td>\n",
       "      <td>364</td>\n",
       "      <td>7.75</td>\n",
       "      <td>3.130</td>\n",
       "      <td>15.0</td>\n",
       "    </tr>\n",
       "    <tr>\n",
       "      <th>96</th>\n",
       "      <td>05-09-2010</td>\n",
       "      <td>0.00001</td>\n",
       "      <td>612</td>\n",
       "      <td>389</td>\n",
       "      <td>136.0</td>\n",
       "      <td>366</td>\n",
       "      <td>7.00</td>\n",
       "      <td>0.110</td>\n",
       "      <td>11.0</td>\n",
       "    </tr>\n",
       "    <tr>\n",
       "      <th>97</th>\n",
       "      <td>06-09-2010</td>\n",
       "      <td>0.00001</td>\n",
       "      <td>527</td>\n",
       "      <td>318</td>\n",
       "      <td>170.0</td>\n",
       "      <td>298</td>\n",
       "      <td>7.16</td>\n",
       "      <td>0.750</td>\n",
       "      <td>16.0</td>\n",
       "    </tr>\n",
       "    <tr>\n",
       "      <th>98</th>\n",
       "      <td>07-09-2010</td>\n",
       "      <td>2.00000</td>\n",
       "      <td>384</td>\n",
       "      <td>235</td>\n",
       "      <td>146.0</td>\n",
       "      <td>13</td>\n",
       "      <td>6.97</td>\n",
       "      <td>0.133</td>\n",
       "      <td>20.0</td>\n",
       "    </tr>\n",
       "    <tr>\n",
       "      <th>99</th>\n",
       "      <td>08-09-2010</td>\n",
       "      <td>5.60000</td>\n",
       "      <td>89</td>\n",
       "      <td>50</td>\n",
       "      <td>44.0</td>\n",
       "      <td>50</td>\n",
       "      <td>8.04</td>\n",
       "      <td>0.180</td>\n",
       "      <td>0.8</td>\n",
       "    </tr>\n",
       "  </tbody>\n",
       "</table>\n",
       "<p>100 rows × 9 columns</p>\n",
       "</div>"
      ],
      "text/plain": [
       "          Date       DO   EC   TS  ALKALINITY  TDS    PH  NO3-N   BOD\n",
       "0   01-06-2010  1.40000  390  262       118.0  249  7.50  1.010   4.0\n",
       "1   02-06-2010  4.00000  367  238       148.0  218  7.30  0.100   4.0\n",
       "2   03-06-2010  2.00000  352  235       138.0  216  7.47  0.250   3.6\n",
       "3   04-06-2010  1.20000  290  240       134.0  202  7.39  0.010  22.0\n",
       "4   05-06-2010  0.40000  546  348       128.0  329  7.30  0.050   9.0\n",
       "..         ...      ...  ...  ...         ...  ...   ...    ...   ...\n",
       "95  04-09-2010  1.00000  601  392       188.0  364  7.75  3.130  15.0\n",
       "96  05-09-2010  0.00001  612  389       136.0  366  7.00  0.110  11.0\n",
       "97  06-09-2010  0.00001  527  318       170.0  298  7.16  0.750  16.0\n",
       "98  07-09-2010  2.00000  384  235       146.0   13  6.97  0.133  20.0\n",
       "99  08-09-2010  5.60000   89   50        44.0   50  8.04  0.180   0.8\n",
       "\n",
       "[100 rows x 9 columns]"
      ]
     },
     "execution_count": 277,
     "metadata": {},
     "output_type": "execute_result"
    }
   ],
   "source": [
    "# DATAFRAME\n",
    "df = pd.DataFrame(data)\n",
    "df"
   ]
  },
  {
   "cell_type": "code",
   "execution_count": 278,
   "id": "1ddd0481",
   "metadata": {},
   "outputs": [
    {
     "data": {
      "text/html": [
       "<div>\n",
       "<style scoped>\n",
       "    .dataframe tbody tr th:only-of-type {\n",
       "        vertical-align: middle;\n",
       "    }\n",
       "\n",
       "    .dataframe tbody tr th {\n",
       "        vertical-align: top;\n",
       "    }\n",
       "\n",
       "    .dataframe thead th {\n",
       "        text-align: right;\n",
       "    }\n",
       "</style>\n",
       "<table border=\"1\" class=\"dataframe\">\n",
       "  <thead>\n",
       "    <tr style=\"text-align: right;\">\n",
       "      <th></th>\n",
       "      <th>DO</th>\n",
       "      <th>EC</th>\n",
       "      <th>TS</th>\n",
       "      <th>ALKALINITY</th>\n",
       "      <th>TDS</th>\n",
       "      <th>PH</th>\n",
       "      <th>NO3-N</th>\n",
       "      <th>BOD</th>\n",
       "    </tr>\n",
       "  </thead>\n",
       "  <tbody>\n",
       "    <tr>\n",
       "      <th>0</th>\n",
       "      <td>1.40000</td>\n",
       "      <td>390</td>\n",
       "      <td>262</td>\n",
       "      <td>118.0</td>\n",
       "      <td>249</td>\n",
       "      <td>7.50</td>\n",
       "      <td>1.010</td>\n",
       "      <td>4.0</td>\n",
       "    </tr>\n",
       "    <tr>\n",
       "      <th>1</th>\n",
       "      <td>4.00000</td>\n",
       "      <td>367</td>\n",
       "      <td>238</td>\n",
       "      <td>148.0</td>\n",
       "      <td>218</td>\n",
       "      <td>7.30</td>\n",
       "      <td>0.100</td>\n",
       "      <td>4.0</td>\n",
       "    </tr>\n",
       "    <tr>\n",
       "      <th>2</th>\n",
       "      <td>2.00000</td>\n",
       "      <td>352</td>\n",
       "      <td>235</td>\n",
       "      <td>138.0</td>\n",
       "      <td>216</td>\n",
       "      <td>7.47</td>\n",
       "      <td>0.250</td>\n",
       "      <td>3.6</td>\n",
       "    </tr>\n",
       "    <tr>\n",
       "      <th>3</th>\n",
       "      <td>1.20000</td>\n",
       "      <td>290</td>\n",
       "      <td>240</td>\n",
       "      <td>134.0</td>\n",
       "      <td>202</td>\n",
       "      <td>7.39</td>\n",
       "      <td>0.010</td>\n",
       "      <td>22.0</td>\n",
       "    </tr>\n",
       "    <tr>\n",
       "      <th>4</th>\n",
       "      <td>0.40000</td>\n",
       "      <td>546</td>\n",
       "      <td>348</td>\n",
       "      <td>128.0</td>\n",
       "      <td>329</td>\n",
       "      <td>7.30</td>\n",
       "      <td>0.050</td>\n",
       "      <td>9.0</td>\n",
       "    </tr>\n",
       "    <tr>\n",
       "      <th>...</th>\n",
       "      <td>...</td>\n",
       "      <td>...</td>\n",
       "      <td>...</td>\n",
       "      <td>...</td>\n",
       "      <td>...</td>\n",
       "      <td>...</td>\n",
       "      <td>...</td>\n",
       "      <td>...</td>\n",
       "    </tr>\n",
       "    <tr>\n",
       "      <th>95</th>\n",
       "      <td>1.00000</td>\n",
       "      <td>601</td>\n",
       "      <td>392</td>\n",
       "      <td>188.0</td>\n",
       "      <td>364</td>\n",
       "      <td>7.75</td>\n",
       "      <td>3.130</td>\n",
       "      <td>15.0</td>\n",
       "    </tr>\n",
       "    <tr>\n",
       "      <th>96</th>\n",
       "      <td>0.00001</td>\n",
       "      <td>612</td>\n",
       "      <td>389</td>\n",
       "      <td>136.0</td>\n",
       "      <td>366</td>\n",
       "      <td>7.00</td>\n",
       "      <td>0.110</td>\n",
       "      <td>11.0</td>\n",
       "    </tr>\n",
       "    <tr>\n",
       "      <th>97</th>\n",
       "      <td>0.00001</td>\n",
       "      <td>527</td>\n",
       "      <td>318</td>\n",
       "      <td>170.0</td>\n",
       "      <td>298</td>\n",
       "      <td>7.16</td>\n",
       "      <td>0.750</td>\n",
       "      <td>16.0</td>\n",
       "    </tr>\n",
       "    <tr>\n",
       "      <th>98</th>\n",
       "      <td>2.00000</td>\n",
       "      <td>384</td>\n",
       "      <td>235</td>\n",
       "      <td>146.0</td>\n",
       "      <td>13</td>\n",
       "      <td>6.97</td>\n",
       "      <td>0.133</td>\n",
       "      <td>20.0</td>\n",
       "    </tr>\n",
       "    <tr>\n",
       "      <th>99</th>\n",
       "      <td>5.60000</td>\n",
       "      <td>89</td>\n",
       "      <td>50</td>\n",
       "      <td>44.0</td>\n",
       "      <td>50</td>\n",
       "      <td>8.04</td>\n",
       "      <td>0.180</td>\n",
       "      <td>0.8</td>\n",
       "    </tr>\n",
       "  </tbody>\n",
       "</table>\n",
       "<p>100 rows × 8 columns</p>\n",
       "</div>"
      ],
      "text/plain": [
       "         DO   EC   TS  ALKALINITY  TDS    PH  NO3-N   BOD\n",
       "0   1.40000  390  262       118.0  249  7.50  1.010   4.0\n",
       "1   4.00000  367  238       148.0  218  7.30  0.100   4.0\n",
       "2   2.00000  352  235       138.0  216  7.47  0.250   3.6\n",
       "3   1.20000  290  240       134.0  202  7.39  0.010  22.0\n",
       "4   0.40000  546  348       128.0  329  7.30  0.050   9.0\n",
       "..      ...  ...  ...         ...  ...   ...    ...   ...\n",
       "95  1.00000  601  392       188.0  364  7.75  3.130  15.0\n",
       "96  0.00001  612  389       136.0  366  7.00  0.110  11.0\n",
       "97  0.00001  527  318       170.0  298  7.16  0.750  16.0\n",
       "98  2.00000  384  235       146.0   13  6.97  0.133  20.0\n",
       "99  5.60000   89   50        44.0   50  8.04  0.180   0.8\n",
       "\n",
       "[100 rows x 8 columns]"
      ]
     },
     "execution_count": 278,
     "metadata": {},
     "output_type": "execute_result"
    }
   ],
   "source": [
    "# DROP THE 'Date' column\n",
    "df = data.drop(columns=['Date'])\n",
    "df"
   ]
  },
  {
   "cell_type": "code",
   "execution_count": 279,
   "id": "da05399c",
   "metadata": {},
   "outputs": [
    {
     "data": {
      "text/html": [
       "<div>\n",
       "<style scoped>\n",
       "    .dataframe tbody tr th:only-of-type {\n",
       "        vertical-align: middle;\n",
       "    }\n",
       "\n",
       "    .dataframe tbody tr th {\n",
       "        vertical-align: top;\n",
       "    }\n",
       "\n",
       "    .dataframe thead th {\n",
       "        text-align: right;\n",
       "    }\n",
       "</style>\n",
       "<table border=\"1\" class=\"dataframe\">\n",
       "  <thead>\n",
       "    <tr style=\"text-align: right;\">\n",
       "      <th></th>\n",
       "      <th>DO</th>\n",
       "      <th>EC</th>\n",
       "      <th>TS</th>\n",
       "      <th>ALKALINITY</th>\n",
       "      <th>TDS</th>\n",
       "      <th>PH</th>\n",
       "      <th>NO3-N</th>\n",
       "      <th>BOD</th>\n",
       "    </tr>\n",
       "  </thead>\n",
       "  <tbody>\n",
       "    <tr>\n",
       "      <th>95</th>\n",
       "      <td>1.00000</td>\n",
       "      <td>601</td>\n",
       "      <td>392</td>\n",
       "      <td>188.0</td>\n",
       "      <td>364</td>\n",
       "      <td>7.75</td>\n",
       "      <td>3.130</td>\n",
       "      <td>15.0</td>\n",
       "    </tr>\n",
       "    <tr>\n",
       "      <th>96</th>\n",
       "      <td>0.00001</td>\n",
       "      <td>612</td>\n",
       "      <td>389</td>\n",
       "      <td>136.0</td>\n",
       "      <td>366</td>\n",
       "      <td>7.00</td>\n",
       "      <td>0.110</td>\n",
       "      <td>11.0</td>\n",
       "    </tr>\n",
       "    <tr>\n",
       "      <th>97</th>\n",
       "      <td>0.00001</td>\n",
       "      <td>527</td>\n",
       "      <td>318</td>\n",
       "      <td>170.0</td>\n",
       "      <td>298</td>\n",
       "      <td>7.16</td>\n",
       "      <td>0.750</td>\n",
       "      <td>16.0</td>\n",
       "    </tr>\n",
       "    <tr>\n",
       "      <th>98</th>\n",
       "      <td>2.00000</td>\n",
       "      <td>384</td>\n",
       "      <td>235</td>\n",
       "      <td>146.0</td>\n",
       "      <td>13</td>\n",
       "      <td>6.97</td>\n",
       "      <td>0.133</td>\n",
       "      <td>20.0</td>\n",
       "    </tr>\n",
       "    <tr>\n",
       "      <th>99</th>\n",
       "      <td>5.60000</td>\n",
       "      <td>89</td>\n",
       "      <td>50</td>\n",
       "      <td>44.0</td>\n",
       "      <td>50</td>\n",
       "      <td>8.04</td>\n",
       "      <td>0.180</td>\n",
       "      <td>0.8</td>\n",
       "    </tr>\n",
       "  </tbody>\n",
       "</table>\n",
       "</div>"
      ],
      "text/plain": [
       "         DO   EC   TS  ALKALINITY  TDS    PH  NO3-N   BOD\n",
       "95  1.00000  601  392       188.0  364  7.75  3.130  15.0\n",
       "96  0.00001  612  389       136.0  366  7.00  0.110  11.0\n",
       "97  0.00001  527  318       170.0  298  7.16  0.750  16.0\n",
       "98  2.00000  384  235       146.0   13  6.97  0.133  20.0\n",
       "99  5.60000   89   50        44.0   50  8.04  0.180   0.8"
      ]
     },
     "execution_count": 279,
     "metadata": {},
     "output_type": "execute_result"
    }
   ],
   "source": [
    "#LAST DATA\n",
    "df.tail()"
   ]
  },
  {
   "cell_type": "code",
   "execution_count": 280,
   "id": "9a814b41",
   "metadata": {},
   "outputs": [
    {
     "name": "stdout",
     "output_type": "stream",
     "text": [
      "The shape of our features is: (100, 8)\n"
     ]
    }
   ],
   "source": [
    "#SHAPE OF DATA\n",
    "print('The shape of our features is:', df.shape)"
   ]
  },
  {
   "cell_type": "code",
   "execution_count": 281,
   "id": "f78bbd73",
   "metadata": {},
   "outputs": [
    {
     "name": "stdout",
     "output_type": "stream",
     "text": [
      "<class 'pandas.core.frame.DataFrame'>\n",
      "RangeIndex: 100 entries, 0 to 99\n",
      "Data columns (total 8 columns):\n",
      " #   Column      Non-Null Count  Dtype  \n",
      "---  ------      --------------  -----  \n",
      " 0   DO          100 non-null    float64\n",
      " 1   EC          100 non-null    int64  \n",
      " 2   TS          100 non-null    int64  \n",
      " 3   ALKALINITY  100 non-null    float64\n",
      " 4   TDS         100 non-null    int64  \n",
      " 5   PH          100 non-null    float64\n",
      " 6   NO3-N       100 non-null    float64\n",
      " 7   BOD         100 non-null    float64\n",
      "dtypes: float64(5), int64(3)\n",
      "memory usage: 6.4 KB\n"
     ]
    }
   ],
   "source": [
    "#INFORMATION OF DATA\n",
    "df.info()"
   ]
  },
  {
   "cell_type": "code",
   "execution_count": 282,
   "id": "9bbcf94f",
   "metadata": {},
   "outputs": [
    {
     "data": {
      "text/html": [
       "<div>\n",
       "<style scoped>\n",
       "    .dataframe tbody tr th:only-of-type {\n",
       "        vertical-align: middle;\n",
       "    }\n",
       "\n",
       "    .dataframe tbody tr th {\n",
       "        vertical-align: top;\n",
       "    }\n",
       "\n",
       "    .dataframe thead th {\n",
       "        text-align: right;\n",
       "    }\n",
       "</style>\n",
       "<table border=\"1\" class=\"dataframe\">\n",
       "  <thead>\n",
       "    <tr style=\"text-align: right;\">\n",
       "      <th></th>\n",
       "      <th>DO</th>\n",
       "      <th>EC</th>\n",
       "      <th>TS</th>\n",
       "      <th>ALKALINITY</th>\n",
       "      <th>TDS</th>\n",
       "      <th>PH</th>\n",
       "      <th>NO3-N</th>\n",
       "    </tr>\n",
       "  </thead>\n",
       "  <tbody>\n",
       "    <tr>\n",
       "      <th>0</th>\n",
       "      <td>1.40000</td>\n",
       "      <td>390</td>\n",
       "      <td>262</td>\n",
       "      <td>118.0</td>\n",
       "      <td>249</td>\n",
       "      <td>7.50</td>\n",
       "      <td>1.010</td>\n",
       "    </tr>\n",
       "    <tr>\n",
       "      <th>1</th>\n",
       "      <td>4.00000</td>\n",
       "      <td>367</td>\n",
       "      <td>238</td>\n",
       "      <td>148.0</td>\n",
       "      <td>218</td>\n",
       "      <td>7.30</td>\n",
       "      <td>0.100</td>\n",
       "    </tr>\n",
       "    <tr>\n",
       "      <th>2</th>\n",
       "      <td>2.00000</td>\n",
       "      <td>352</td>\n",
       "      <td>235</td>\n",
       "      <td>138.0</td>\n",
       "      <td>216</td>\n",
       "      <td>7.47</td>\n",
       "      <td>0.250</td>\n",
       "    </tr>\n",
       "    <tr>\n",
       "      <th>3</th>\n",
       "      <td>1.20000</td>\n",
       "      <td>290</td>\n",
       "      <td>240</td>\n",
       "      <td>134.0</td>\n",
       "      <td>202</td>\n",
       "      <td>7.39</td>\n",
       "      <td>0.010</td>\n",
       "    </tr>\n",
       "    <tr>\n",
       "      <th>4</th>\n",
       "      <td>0.40000</td>\n",
       "      <td>546</td>\n",
       "      <td>348</td>\n",
       "      <td>128.0</td>\n",
       "      <td>329</td>\n",
       "      <td>7.30</td>\n",
       "      <td>0.050</td>\n",
       "    </tr>\n",
       "    <tr>\n",
       "      <th>...</th>\n",
       "      <td>...</td>\n",
       "      <td>...</td>\n",
       "      <td>...</td>\n",
       "      <td>...</td>\n",
       "      <td>...</td>\n",
       "      <td>...</td>\n",
       "      <td>...</td>\n",
       "    </tr>\n",
       "    <tr>\n",
       "      <th>95</th>\n",
       "      <td>1.00000</td>\n",
       "      <td>601</td>\n",
       "      <td>392</td>\n",
       "      <td>188.0</td>\n",
       "      <td>364</td>\n",
       "      <td>7.75</td>\n",
       "      <td>3.130</td>\n",
       "    </tr>\n",
       "    <tr>\n",
       "      <th>96</th>\n",
       "      <td>0.00001</td>\n",
       "      <td>612</td>\n",
       "      <td>389</td>\n",
       "      <td>136.0</td>\n",
       "      <td>366</td>\n",
       "      <td>7.00</td>\n",
       "      <td>0.110</td>\n",
       "    </tr>\n",
       "    <tr>\n",
       "      <th>97</th>\n",
       "      <td>0.00001</td>\n",
       "      <td>527</td>\n",
       "      <td>318</td>\n",
       "      <td>170.0</td>\n",
       "      <td>298</td>\n",
       "      <td>7.16</td>\n",
       "      <td>0.750</td>\n",
       "    </tr>\n",
       "    <tr>\n",
       "      <th>98</th>\n",
       "      <td>2.00000</td>\n",
       "      <td>384</td>\n",
       "      <td>235</td>\n",
       "      <td>146.0</td>\n",
       "      <td>13</td>\n",
       "      <td>6.97</td>\n",
       "      <td>0.133</td>\n",
       "    </tr>\n",
       "    <tr>\n",
       "      <th>99</th>\n",
       "      <td>5.60000</td>\n",
       "      <td>89</td>\n",
       "      <td>50</td>\n",
       "      <td>44.0</td>\n",
       "      <td>50</td>\n",
       "      <td>8.04</td>\n",
       "      <td>0.180</td>\n",
       "    </tr>\n",
       "  </tbody>\n",
       "</table>\n",
       "<p>100 rows × 7 columns</p>\n",
       "</div>"
      ],
      "text/plain": [
       "         DO   EC   TS  ALKALINITY  TDS    PH  NO3-N\n",
       "0   1.40000  390  262       118.0  249  7.50  1.010\n",
       "1   4.00000  367  238       148.0  218  7.30  0.100\n",
       "2   2.00000  352  235       138.0  216  7.47  0.250\n",
       "3   1.20000  290  240       134.0  202  7.39  0.010\n",
       "4   0.40000  546  348       128.0  329  7.30  0.050\n",
       "..      ...  ...  ...         ...  ...   ...    ...\n",
       "95  1.00000  601  392       188.0  364  7.75  3.130\n",
       "96  0.00001  612  389       136.0  366  7.00  0.110\n",
       "97  0.00001  527  318       170.0  298  7.16  0.750\n",
       "98  2.00000  384  235       146.0   13  6.97  0.133\n",
       "99  5.60000   89   50        44.0   50  8.04  0.180\n",
       "\n",
       "[100 rows x 7 columns]"
      ]
     },
     "execution_count": 282,
     "metadata": {},
     "output_type": "execute_result"
    }
   ],
   "source": [
    "#INPUT PARAMETERS - 7 INPUTS\n",
    "from sklearn.model_selection import train_test_split\n",
    "X=(df.iloc[:,0:7])\n",
    "X"
   ]
  },
  {
   "cell_type": "code",
   "execution_count": 283,
   "id": "e5008452",
   "metadata": {},
   "outputs": [
    {
     "data": {
      "text/html": [
       "<div>\n",
       "<style scoped>\n",
       "    .dataframe tbody tr th:only-of-type {\n",
       "        vertical-align: middle;\n",
       "    }\n",
       "\n",
       "    .dataframe tbody tr th {\n",
       "        vertical-align: top;\n",
       "    }\n",
       "\n",
       "    .dataframe thead th {\n",
       "        text-align: right;\n",
       "    }\n",
       "</style>\n",
       "<table border=\"1\" class=\"dataframe\">\n",
       "  <thead>\n",
       "    <tr style=\"text-align: right;\">\n",
       "      <th></th>\n",
       "      <th>BOD</th>\n",
       "    </tr>\n",
       "  </thead>\n",
       "  <tbody>\n",
       "    <tr>\n",
       "      <th>0</th>\n",
       "      <td>4.0</td>\n",
       "    </tr>\n",
       "    <tr>\n",
       "      <th>1</th>\n",
       "      <td>4.0</td>\n",
       "    </tr>\n",
       "    <tr>\n",
       "      <th>2</th>\n",
       "      <td>3.6</td>\n",
       "    </tr>\n",
       "    <tr>\n",
       "      <th>3</th>\n",
       "      <td>22.0</td>\n",
       "    </tr>\n",
       "    <tr>\n",
       "      <th>4</th>\n",
       "      <td>9.0</td>\n",
       "    </tr>\n",
       "    <tr>\n",
       "      <th>...</th>\n",
       "      <td>...</td>\n",
       "    </tr>\n",
       "    <tr>\n",
       "      <th>95</th>\n",
       "      <td>15.0</td>\n",
       "    </tr>\n",
       "    <tr>\n",
       "      <th>96</th>\n",
       "      <td>11.0</td>\n",
       "    </tr>\n",
       "    <tr>\n",
       "      <th>97</th>\n",
       "      <td>16.0</td>\n",
       "    </tr>\n",
       "    <tr>\n",
       "      <th>98</th>\n",
       "      <td>20.0</td>\n",
       "    </tr>\n",
       "    <tr>\n",
       "      <th>99</th>\n",
       "      <td>0.8</td>\n",
       "    </tr>\n",
       "  </tbody>\n",
       "</table>\n",
       "<p>100 rows × 1 columns</p>\n",
       "</div>"
      ],
      "text/plain": [
       "     BOD\n",
       "0    4.0\n",
       "1    4.0\n",
       "2    3.6\n",
       "3   22.0\n",
       "4    9.0\n",
       "..   ...\n",
       "95  15.0\n",
       "96  11.0\n",
       "97  16.0\n",
       "98  20.0\n",
       "99   0.8\n",
       "\n",
       "[100 rows x 1 columns]"
      ]
     },
     "execution_count": 283,
     "metadata": {},
     "output_type": "execute_result"
    }
   ],
   "source": [
    "#OUTPUT PARAMETERS - BOD\n",
    "from sklearn.model_selection import train_test_split\n",
    "y=(df.iloc[:,-1:])\n",
    "y"
   ]
  },
  {
   "cell_type": "code",
   "execution_count": 284,
   "id": "cec5c898",
   "metadata": {},
   "outputs": [
    {
     "data": {
      "text/html": [
       "<div>\n",
       "<style scoped>\n",
       "    .dataframe tbody tr th:only-of-type {\n",
       "        vertical-align: middle;\n",
       "    }\n",
       "\n",
       "    .dataframe tbody tr th {\n",
       "        vertical-align: top;\n",
       "    }\n",
       "\n",
       "    .dataframe thead th {\n",
       "        text-align: right;\n",
       "    }\n",
       "</style>\n",
       "<table border=\"1\" class=\"dataframe\">\n",
       "  <thead>\n",
       "    <tr style=\"text-align: right;\">\n",
       "      <th></th>\n",
       "      <th>DO</th>\n",
       "      <th>EC</th>\n",
       "      <th>TS</th>\n",
       "      <th>ALKALINITY</th>\n",
       "      <th>TDS</th>\n",
       "      <th>PH</th>\n",
       "      <th>NO3-N</th>\n",
       "      <th>BOD</th>\n",
       "    </tr>\n",
       "  </thead>\n",
       "  <tbody>\n",
       "    <tr>\n",
       "      <th>count</th>\n",
       "      <td>100.000000</td>\n",
       "      <td>100.0000</td>\n",
       "      <td>100.000000</td>\n",
       "      <td>100.000000</td>\n",
       "      <td>100.000000</td>\n",
       "      <td>100.000000</td>\n",
       "      <td>100.000000</td>\n",
       "      <td>100.000000</td>\n",
       "    </tr>\n",
       "    <tr>\n",
       "      <th>mean</th>\n",
       "      <td>5.741001</td>\n",
       "      <td>227.0400</td>\n",
       "      <td>185.160000</td>\n",
       "      <td>87.299000</td>\n",
       "      <td>137.050000</td>\n",
       "      <td>7.871500</td>\n",
       "      <td>0.861360</td>\n",
       "      <td>6.818000</td>\n",
       "    </tr>\n",
       "    <tr>\n",
       "      <th>std</th>\n",
       "      <td>3.074201</td>\n",
       "      <td>172.7179</td>\n",
       "      <td>95.447984</td>\n",
       "      <td>52.390402</td>\n",
       "      <td>102.432079</td>\n",
       "      <td>0.489259</td>\n",
       "      <td>1.799779</td>\n",
       "      <td>9.519808</td>\n",
       "    </tr>\n",
       "    <tr>\n",
       "      <th>min</th>\n",
       "      <td>0.000010</td>\n",
       "      <td>51.0000</td>\n",
       "      <td>50.000000</td>\n",
       "      <td>28.000000</td>\n",
       "      <td>13.000000</td>\n",
       "      <td>6.700000</td>\n",
       "      <td>0.010000</td>\n",
       "      <td>0.400000</td>\n",
       "    </tr>\n",
       "    <tr>\n",
       "      <th>25%</th>\n",
       "      <td>3.000000</td>\n",
       "      <td>108.5000</td>\n",
       "      <td>108.000000</td>\n",
       "      <td>44.000000</td>\n",
       "      <td>64.000000</td>\n",
       "      <td>7.465000</td>\n",
       "      <td>0.100000</td>\n",
       "      <td>1.600000</td>\n",
       "    </tr>\n",
       "    <tr>\n",
       "      <th>50%</th>\n",
       "      <td>7.000000</td>\n",
       "      <td>132.0000</td>\n",
       "      <td>149.000000</td>\n",
       "      <td>66.000000</td>\n",
       "      <td>84.000000</td>\n",
       "      <td>7.940000</td>\n",
       "      <td>0.239500</td>\n",
       "      <td>2.200000</td>\n",
       "    </tr>\n",
       "    <tr>\n",
       "      <th>75%</th>\n",
       "      <td>8.200000</td>\n",
       "      <td>352.5000</td>\n",
       "      <td>235.500000</td>\n",
       "      <td>130.000000</td>\n",
       "      <td>202.000000</td>\n",
       "      <td>8.225000</td>\n",
       "      <td>0.599750</td>\n",
       "      <td>4.650000</td>\n",
       "    </tr>\n",
       "    <tr>\n",
       "      <th>max</th>\n",
       "      <td>9.200000</td>\n",
       "      <td>640.0000</td>\n",
       "      <td>413.000000</td>\n",
       "      <td>222.000000</td>\n",
       "      <td>381.000000</td>\n",
       "      <td>8.900000</td>\n",
       "      <td>11.320000</td>\n",
       "      <td>38.000000</td>\n",
       "    </tr>\n",
       "  </tbody>\n",
       "</table>\n",
       "</div>"
      ],
      "text/plain": [
       "               DO        EC          TS  ALKALINITY         TDS          PH  \\\n",
       "count  100.000000  100.0000  100.000000  100.000000  100.000000  100.000000   \n",
       "mean     5.741001  227.0400  185.160000   87.299000  137.050000    7.871500   \n",
       "std      3.074201  172.7179   95.447984   52.390402  102.432079    0.489259   \n",
       "min      0.000010   51.0000   50.000000   28.000000   13.000000    6.700000   \n",
       "25%      3.000000  108.5000  108.000000   44.000000   64.000000    7.465000   \n",
       "50%      7.000000  132.0000  149.000000   66.000000   84.000000    7.940000   \n",
       "75%      8.200000  352.5000  235.500000  130.000000  202.000000    8.225000   \n",
       "max      9.200000  640.0000  413.000000  222.000000  381.000000    8.900000   \n",
       "\n",
       "            NO3-N         BOD  \n",
       "count  100.000000  100.000000  \n",
       "mean     0.861360    6.818000  \n",
       "std      1.799779    9.519808  \n",
       "min      0.010000    0.400000  \n",
       "25%      0.100000    1.600000  \n",
       "50%      0.239500    2.200000  \n",
       "75%      0.599750    4.650000  \n",
       "max     11.320000   38.000000  "
      ]
     },
     "execution_count": 284,
     "metadata": {},
     "output_type": "execute_result"
    }
   ],
   "source": [
    "df.describe()"
   ]
  },
  {
   "cell_type": "code",
   "execution_count": 285,
   "id": "e460f65a",
   "metadata": {},
   "outputs": [
    {
     "data": {
      "text/html": [
       "<div>\n",
       "<style scoped>\n",
       "    .dataframe tbody tr th:only-of-type {\n",
       "        vertical-align: middle;\n",
       "    }\n",
       "\n",
       "    .dataframe tbody tr th {\n",
       "        vertical-align: top;\n",
       "    }\n",
       "\n",
       "    .dataframe thead th {\n",
       "        text-align: right;\n",
       "    }\n",
       "</style>\n",
       "<table border=\"1\" class=\"dataframe\">\n",
       "  <thead>\n",
       "    <tr style=\"text-align: right;\">\n",
       "      <th></th>\n",
       "      <th>DO</th>\n",
       "      <th>EC</th>\n",
       "      <th>TS</th>\n",
       "      <th>ALKALINITY</th>\n",
       "      <th>TDS</th>\n",
       "      <th>PH</th>\n",
       "      <th>NO3-N</th>\n",
       "      <th>BOD</th>\n",
       "    </tr>\n",
       "  </thead>\n",
       "  <tbody>\n",
       "    <tr>\n",
       "      <th>count</th>\n",
       "      <td>100.000000</td>\n",
       "      <td>100.0000</td>\n",
       "      <td>100.000000</td>\n",
       "      <td>100.000000</td>\n",
       "      <td>100.000000</td>\n",
       "      <td>100.000000</td>\n",
       "      <td>100.000000</td>\n",
       "      <td>100.000000</td>\n",
       "    </tr>\n",
       "    <tr>\n",
       "      <th>mean</th>\n",
       "      <td>5.741001</td>\n",
       "      <td>227.0400</td>\n",
       "      <td>185.160000</td>\n",
       "      <td>87.299000</td>\n",
       "      <td>137.050000</td>\n",
       "      <td>7.871500</td>\n",
       "      <td>0.861360</td>\n",
       "      <td>6.818000</td>\n",
       "    </tr>\n",
       "    <tr>\n",
       "      <th>std</th>\n",
       "      <td>3.074201</td>\n",
       "      <td>172.7179</td>\n",
       "      <td>95.447984</td>\n",
       "      <td>52.390402</td>\n",
       "      <td>102.432079</td>\n",
       "      <td>0.489259</td>\n",
       "      <td>1.799779</td>\n",
       "      <td>9.519808</td>\n",
       "    </tr>\n",
       "    <tr>\n",
       "      <th>min</th>\n",
       "      <td>0.000010</td>\n",
       "      <td>51.0000</td>\n",
       "      <td>50.000000</td>\n",
       "      <td>28.000000</td>\n",
       "      <td>13.000000</td>\n",
       "      <td>6.700000</td>\n",
       "      <td>0.010000</td>\n",
       "      <td>0.400000</td>\n",
       "    </tr>\n",
       "    <tr>\n",
       "      <th>25%</th>\n",
       "      <td>3.000000</td>\n",
       "      <td>108.5000</td>\n",
       "      <td>108.000000</td>\n",
       "      <td>44.000000</td>\n",
       "      <td>64.000000</td>\n",
       "      <td>7.465000</td>\n",
       "      <td>0.100000</td>\n",
       "      <td>1.600000</td>\n",
       "    </tr>\n",
       "    <tr>\n",
       "      <th>50%</th>\n",
       "      <td>7.000000</td>\n",
       "      <td>132.0000</td>\n",
       "      <td>149.000000</td>\n",
       "      <td>66.000000</td>\n",
       "      <td>84.000000</td>\n",
       "      <td>7.940000</td>\n",
       "      <td>0.239500</td>\n",
       "      <td>2.200000</td>\n",
       "    </tr>\n",
       "    <tr>\n",
       "      <th>75%</th>\n",
       "      <td>8.200000</td>\n",
       "      <td>352.5000</td>\n",
       "      <td>235.500000</td>\n",
       "      <td>130.000000</td>\n",
       "      <td>202.000000</td>\n",
       "      <td>8.225000</td>\n",
       "      <td>0.599750</td>\n",
       "      <td>4.650000</td>\n",
       "    </tr>\n",
       "    <tr>\n",
       "      <th>max</th>\n",
       "      <td>9.200000</td>\n",
       "      <td>640.0000</td>\n",
       "      <td>413.000000</td>\n",
       "      <td>222.000000</td>\n",
       "      <td>381.000000</td>\n",
       "      <td>8.900000</td>\n",
       "      <td>11.320000</td>\n",
       "      <td>38.000000</td>\n",
       "    </tr>\n",
       "  </tbody>\n",
       "</table>\n",
       "</div>"
      ],
      "text/plain": [
       "               DO        EC          TS  ALKALINITY         TDS          PH  \\\n",
       "count  100.000000  100.0000  100.000000  100.000000  100.000000  100.000000   \n",
       "mean     5.741001  227.0400  185.160000   87.299000  137.050000    7.871500   \n",
       "std      3.074201  172.7179   95.447984   52.390402  102.432079    0.489259   \n",
       "min      0.000010   51.0000   50.000000   28.000000   13.000000    6.700000   \n",
       "25%      3.000000  108.5000  108.000000   44.000000   64.000000    7.465000   \n",
       "50%      7.000000  132.0000  149.000000   66.000000   84.000000    7.940000   \n",
       "75%      8.200000  352.5000  235.500000  130.000000  202.000000    8.225000   \n",
       "max      9.200000  640.0000  413.000000  222.000000  381.000000    8.900000   \n",
       "\n",
       "            NO3-N         BOD  \n",
       "count  100.000000  100.000000  \n",
       "mean     0.861360    6.818000  \n",
       "std      1.799779    9.519808  \n",
       "min      0.010000    0.400000  \n",
       "25%      0.100000    1.600000  \n",
       "50%      0.239500    2.200000  \n",
       "75%      0.599750    4.650000  \n",
       "max     11.320000   38.000000  "
      ]
     },
     "execution_count": 285,
     "metadata": {},
     "output_type": "execute_result"
    }
   ],
   "source": [
    "#CHARACTERISTICS OF DATA\n",
    "df.describe()"
   ]
  },
  {
   "cell_type": "code",
   "execution_count": 286,
   "id": "bfc0ce73",
   "metadata": {},
   "outputs": [
    {
     "data": {
      "text/html": [
       "<div>\n",
       "<style scoped>\n",
       "    .dataframe tbody tr th:only-of-type {\n",
       "        vertical-align: middle;\n",
       "    }\n",
       "\n",
       "    .dataframe tbody tr th {\n",
       "        vertical-align: top;\n",
       "    }\n",
       "\n",
       "    .dataframe thead th {\n",
       "        text-align: right;\n",
       "    }\n",
       "</style>\n",
       "<table border=\"1\" class=\"dataframe\">\n",
       "  <thead>\n",
       "    <tr style=\"text-align: right;\">\n",
       "      <th></th>\n",
       "      <th>DO</th>\n",
       "      <th>EC</th>\n",
       "      <th>TS</th>\n",
       "      <th>ALKALINITY</th>\n",
       "      <th>TDS</th>\n",
       "      <th>PH</th>\n",
       "      <th>NO3-N</th>\n",
       "      <th>BOD</th>\n",
       "    </tr>\n",
       "  </thead>\n",
       "  <tbody>\n",
       "    <tr>\n",
       "      <th>DO</th>\n",
       "      <td>1.000000</td>\n",
       "      <td>-0.837715</td>\n",
       "      <td>-0.734903</td>\n",
       "      <td>-0.814500</td>\n",
       "      <td>-0.806886</td>\n",
       "      <td>0.620788</td>\n",
       "      <td>-0.436659</td>\n",
       "      <td>-0.751279</td>\n",
       "    </tr>\n",
       "    <tr>\n",
       "      <th>EC</th>\n",
       "      <td>-0.837715</td>\n",
       "      <td>1.000000</td>\n",
       "      <td>0.932841</td>\n",
       "      <td>0.920360</td>\n",
       "      <td>0.966332</td>\n",
       "      <td>-0.641015</td>\n",
       "      <td>0.515285</td>\n",
       "      <td>0.665514</td>\n",
       "    </tr>\n",
       "    <tr>\n",
       "      <th>TS</th>\n",
       "      <td>-0.734903</td>\n",
       "      <td>0.932841</td>\n",
       "      <td>1.000000</td>\n",
       "      <td>0.850176</td>\n",
       "      <td>0.932739</td>\n",
       "      <td>-0.582163</td>\n",
       "      <td>0.494419</td>\n",
       "      <td>0.621386</td>\n",
       "    </tr>\n",
       "    <tr>\n",
       "      <th>ALKALINITY</th>\n",
       "      <td>-0.814500</td>\n",
       "      <td>0.920360</td>\n",
       "      <td>0.850176</td>\n",
       "      <td>1.000000</td>\n",
       "      <td>0.895391</td>\n",
       "      <td>-0.596677</td>\n",
       "      <td>0.478917</td>\n",
       "      <td>0.658623</td>\n",
       "    </tr>\n",
       "    <tr>\n",
       "      <th>TDS</th>\n",
       "      <td>-0.806886</td>\n",
       "      <td>0.966332</td>\n",
       "      <td>0.932739</td>\n",
       "      <td>0.895391</td>\n",
       "      <td>1.000000</td>\n",
       "      <td>-0.586399</td>\n",
       "      <td>0.528950</td>\n",
       "      <td>0.631852</td>\n",
       "    </tr>\n",
       "    <tr>\n",
       "      <th>PH</th>\n",
       "      <td>0.620788</td>\n",
       "      <td>-0.641015</td>\n",
       "      <td>-0.582163</td>\n",
       "      <td>-0.596677</td>\n",
       "      <td>-0.586399</td>\n",
       "      <td>1.000000</td>\n",
       "      <td>-0.273138</td>\n",
       "      <td>-0.524187</td>\n",
       "    </tr>\n",
       "    <tr>\n",
       "      <th>NO3-N</th>\n",
       "      <td>-0.436659</td>\n",
       "      <td>0.515285</td>\n",
       "      <td>0.494419</td>\n",
       "      <td>0.478917</td>\n",
       "      <td>0.528950</td>\n",
       "      <td>-0.273138</td>\n",
       "      <td>1.000000</td>\n",
       "      <td>0.376174</td>\n",
       "    </tr>\n",
       "    <tr>\n",
       "      <th>BOD</th>\n",
       "      <td>-0.751279</td>\n",
       "      <td>0.665514</td>\n",
       "      <td>0.621386</td>\n",
       "      <td>0.658623</td>\n",
       "      <td>0.631852</td>\n",
       "      <td>-0.524187</td>\n",
       "      <td>0.376174</td>\n",
       "      <td>1.000000</td>\n",
       "    </tr>\n",
       "  </tbody>\n",
       "</table>\n",
       "</div>"
      ],
      "text/plain": [
       "                  DO        EC        TS  ALKALINITY       TDS        PH  \\\n",
       "DO          1.000000 -0.837715 -0.734903   -0.814500 -0.806886  0.620788   \n",
       "EC         -0.837715  1.000000  0.932841    0.920360  0.966332 -0.641015   \n",
       "TS         -0.734903  0.932841  1.000000    0.850176  0.932739 -0.582163   \n",
       "ALKALINITY -0.814500  0.920360  0.850176    1.000000  0.895391 -0.596677   \n",
       "TDS        -0.806886  0.966332  0.932739    0.895391  1.000000 -0.586399   \n",
       "PH          0.620788 -0.641015 -0.582163   -0.596677 -0.586399  1.000000   \n",
       "NO3-N      -0.436659  0.515285  0.494419    0.478917  0.528950 -0.273138   \n",
       "BOD        -0.751279  0.665514  0.621386    0.658623  0.631852 -0.524187   \n",
       "\n",
       "               NO3-N       BOD  \n",
       "DO         -0.436659 -0.751279  \n",
       "EC          0.515285  0.665514  \n",
       "TS          0.494419  0.621386  \n",
       "ALKALINITY  0.478917  0.658623  \n",
       "TDS         0.528950  0.631852  \n",
       "PH         -0.273138 -0.524187  \n",
       "NO3-N       1.000000  0.376174  \n",
       "BOD         0.376174  1.000000  "
      ]
     },
     "execution_count": 286,
     "metadata": {},
     "output_type": "execute_result"
    }
   ],
   "source": [
    "df.corr()"
   ]
  },
  {
   "cell_type": "code",
   "execution_count": 289,
   "id": "d2abdc0e",
   "metadata": {},
   "outputs": [
    {
     "data": {
      "text/plain": [
       "<AxesSubplot:>"
      ]
     },
     "execution_count": 289,
     "metadata": {},
     "output_type": "execute_result"
    },
    {
     "data": {
      "image/png": "[encoded data removed]",
      "text/plain": [
       "<Figure size 720x360 with 2 Axes>"
      ]
     },
     "metadata": {
      "needs_background": "light"
     },
     "output_type": "display_data"
    }
   ],
   "source": [
    "#HEATMAP\n",
    "plt.figure(figsize=(10,5))\n",
    "sns.heatmap(df.corr(), annot = True)"
   ]
  },
  {
   "cell_type": "code",
   "execution_count": 290,
   "id": "3975d3de",
   "metadata": {},
   "outputs": [
    {
     "data": {
      "text/plain": [
       "DO            0\n",
       "EC            0\n",
       "TS            0\n",
       "ALKALINITY    0\n",
       "TDS           0\n",
       "PH            0\n",
       "NO3-N         0\n",
       "BOD           0\n",
       "dtype: int64"
      ]
     },
     "execution_count": 290,
     "metadata": {},
     "output_type": "execute_result"
    }
   ],
   "source": [
    "#CHECK IF ANY DATA IS NULL\n",
    "df.isnull().sum()"
   ]
  },
  {
   "cell_type": "code",
   "execution_count": 291,
   "id": "40a76838",
   "metadata": {},
   "outputs": [],
   "source": [
    "#IMPORT FOR PLOTTING\n",
    "import seaborn as sns\n",
    "import matplotlib.pyplot as plt"
   ]
  },
  {
   "cell_type": "code",
   "execution_count": 293,
   "id": "e3b59678",
   "metadata": {},
   "outputs": [
    {
     "data": {
      "image/png": "[encoded data removed]",
      "text/plain": [
       "<Figure size 432x288 with 1 Axes>"
      ]
     },
     "metadata": {
      "needs_background": "light"
     },
     "output_type": "display_data"
    }
   ],
   "source": [
    "# DATA COUNT OF BOD\n",
    "sns.countplot('DO', data=X)\n",
    "plt.show()"
   ]
  },
  {
   "cell_type": "code",
   "execution_count": 294,
   "id": "4193832e",
   "metadata": {},
   "outputs": [
    {
     "name": "stderr",
     "output_type": "stream",
     "text": [
      "C:\\Users\\Neela\\anaconda3\\lib\\site-packages\\seaborn\\_decorators.py:36: FutureWarning: Pass the following variable as a keyword arg: x. From version 0.12, the only valid positional argument will be `data`, and passing other arguments without an explicit keyword will result in an error or misinterpretation.\n",
      "  warnings.warn(\n"
     ]
    },
    {
     "data": {
      "text/plain": [
       "<AxesSubplot:xlabel='BOD'>"
      ]
     },
     "execution_count": 294,
     "metadata": {},
     "output_type": "execute_result"
    },
    {
     "data": {
      "image/png": "[encoded data removed]",
      "text/plain": [
       "<Figure size 432x288 with 1 Axes>"
      ]
     },
     "metadata": {
      "needs_background": "light"
     },
     "output_type": "display_data"
    }
   ],
   "source": [
    "sns.boxplot( df['BOD'] )"
   ]
  },
  {
   "cell_type": "code",
   "execution_count": 295,
   "id": "62b9779a",
   "metadata": {},
   "outputs": [
    {
     "name": "stderr",
     "output_type": "stream",
     "text": [
      "C:\\Users\\Neela\\anaconda3\\lib\\site-packages\\seaborn\\distributions.py:2557: FutureWarning: `distplot` is a deprecated function and will be removed in a future version. Please adapt your code to use either `displot` (a figure-level function with similar flexibility) or `histplot` (an axes-level function for histograms).\n",
      "  warnings.warn(msg, FutureWarning)\n"
     ]
    },
    {
     "data": {
      "text/plain": [
       "<AxesSubplot:xlabel='TS', ylabel='Density'>"
      ]
     },
     "execution_count": 295,
     "metadata": {},
     "output_type": "execute_result"
    },
    {
     "data": {
      "image/png": "[encoded data removed]",
      "text/plain": [
       "<Figure size 432x288 with 1 Axes>"
      ]
     },
     "metadata": {
      "needs_background": "light"
     },
     "output_type": "display_data"
    }
   ],
   "source": [
    "sns.distplot(df['TS'])"
   ]
  },
  {
   "cell_type": "code",
   "execution_count": 297,
   "id": "e54d12c7",
   "metadata": {},
   "outputs": [
    {
     "name": "stderr",
     "output_type": "stream",
     "text": [
      "C:\\Users\\Neela\\anaconda3\\lib\\site-packages\\seaborn\\_decorators.py:36: FutureWarning: Pass the following variable as a keyword arg: x. From version 0.12, the only valid positional argument will be `data`, and passing other arguments without an explicit keyword will result in an error or misinterpretation.\n",
      "  warnings.warn(\n"
     ]
    },
    {
     "data": {
      "text/plain": [
       "<AxesSubplot:xlabel='TDS'>"
      ]
     },
     "execution_count": 297,
     "metadata": {},
     "output_type": "execute_result"
    },
    {
     "data": {
      "image/png": "[encoded data removed]",
      "text/plain": [
       "<Figure size 432x288 with 1 Axes>"
      ]
     },
     "metadata": {
      "needs_background": "light"
     },
     "output_type": "display_data"
    }
   ],
   "source": [
    "sns.boxplot(df['TDS'] )"
   ]
  },
  {
   "cell_type": "code",
   "execution_count": 299,
   "id": "71cb37cc",
   "metadata": {},
   "outputs": [
    {
     "data": {
      "text/plain": [
       "70    3\n",
       "72    3\n",
       "62    3\n",
       "57    3\n",
       "77    3\n",
       "     ..\n",
       "82    1\n",
       "96    1\n",
       "73    1\n",
       "69    1\n",
       "50    1\n",
       "Name: TDS, Length: 74, dtype: int64"
      ]
     },
     "execution_count": 299,
     "metadata": {},
     "output_type": "execute_result"
    }
   ],
   "source": [
    "df['TDS'].value_counts()"
   ]
  },
  {
   "cell_type": "code",
   "execution_count": 301,
   "id": "1b172b57",
   "metadata": {},
   "outputs": [
    {
     "data": {
      "image/png": "[encoded data removed]",
      "text/plain": [
       "<Figure size 432x288 with 1 Axes>"
      ]
     },
     "metadata": {
      "needs_background": "light"
     },
     "output_type": "display_data"
    }
   ],
   "source": [
    "sns.countplot('PH', data=X)\n",
    "plt.show()"
   ]
  },
  {
   "cell_type": "code",
   "execution_count": 302,
   "id": "c836d0d5",
   "metadata": {},
   "outputs": [
    {
     "data": {
      "text/plain": [
       "<seaborn.axisgrid.PairGrid at 0x25970b2fa30>"
      ]
     },
     "execution_count": 302,
     "metadata": {},
     "output_type": "execute_result"
    },
    {
     "data": {
      "image/png": "[encoded data removed]",
      "text/plain": [
       "<Figure size 1440x1440 with 72 Axes>"
      ]
     },
     "metadata": {
      "needs_background": "light"
     },
     "output_type": "display_data"
    }
   ],
   "source": [
    "sns.pairplot(df)"
   ]
  },
  {
   "cell_type": "code",
   "execution_count": 303,
   "id": "0c2e2924",
   "metadata": {},
   "outputs": [
    {
     "name": "stderr",
     "output_type": "stream",
     "text": [
      "C:\\Users\\Neela\\anaconda3\\lib\\site-packages\\seaborn\\_decorators.py:36: FutureWarning: Pass the following variables as keyword args: x, y. From version 0.12, the only valid positional argument will be `data`, and passing other arguments without an explicit keyword will result in an error or misinterpretation.\n",
      "  warnings.warn(\n"
     ]
    },
    {
     "data": {
      "text/plain": [
       "<AxesSubplot:xlabel='DO', ylabel='BOD'>"
      ]
     },
     "execution_count": 303,
     "metadata": {},
     "output_type": "execute_result"
    },
    {
     "data": {
      "image/png": "[encoded data removed]",
      "text/plain": [
       "<Figure size 432x288 with 1 Axes>"
      ]
     },
     "metadata": {
      "needs_background": "light"
     },
     "output_type": "display_data"
    }
   ],
   "source": [
    "import seaborn\n",
    "import seaborn as sns\n",
    "seaborn.scatterplot(df['DO'],df['BOD'])"
   ]
  },
  {
   "cell_type": "code",
   "execution_count": 304,
   "id": "3ecb1b48",
   "metadata": {},
   "outputs": [
    {
     "name": "stderr",
     "output_type": "stream",
     "text": [
      "C:\\Users\\Neela\\anaconda3\\lib\\site-packages\\seaborn\\_decorators.py:36: FutureWarning: Pass the following variables as keyword args: x, y. From version 0.12, the only valid positional argument will be `data`, and passing other arguments without an explicit keyword will result in an error or misinterpretation.\n",
      "  warnings.warn(\n"
     ]
    },
    {
     "data": {
      "text/plain": [
       "<AxesSubplot:xlabel='PH', ylabel='BOD'>"
      ]
     },
     "execution_count": 304,
     "metadata": {},
     "output_type": "execute_result"
    },
    {
     "data": {
      "image/png": "[encoded data removed]",
      "text/plain": [
       "<Figure size 432x288 with 1 Axes>"
      ]
     },
     "metadata": {
      "needs_background": "light"
     },
     "output_type": "display_data"
    }
   ],
   "source": [
    "seaborn.scatterplot(df['PH'],df['BOD'])"
   ]
  },
  {
   "cell_type": "code",
   "execution_count": 345,
   "id": "c16e200b",
   "metadata": {},
   "outputs": [
    {
     "name": "stderr",
     "output_type": "stream",
     "text": [
      "C:\\Users\\Neela\\anaconda3\\lib\\site-packages\\seaborn\\categorical.py:82: FutureWarning: iteritems is deprecated and will be removed in a future version. Use .items instead.\n",
      "  plot_data = [np.asarray(s, float) for k, s in iter_data]\n",
      "C:\\Users\\Neela\\anaconda3\\lib\\site-packages\\seaborn\\categorical.py:82: FutureWarning: iteritems is deprecated and will be removed in a future version. Use .items instead.\n",
      "  plot_data = [np.asarray(s, float) for k, s in iter_data]\n"
     ]
    },
    {
     "data": {
      "image/png": "[encoded data removed]",
      "text/plain": [
       "<Figure size 1080x360 with 1 Axes>"
      ]
     },
     "metadata": {
      "needs_background": "light"
     },
     "output_type": "display_data"
    }
   ],
   "source": [
    "#VIOLIN PLOT\n",
    "\n",
    "sns.catplot(data=df,height=5,aspect=3.0,kind='violin')\n",
    "# Add labels to the axes\n",
    "plt.xlabel(\"Parameters\")\n",
    "plt.ylabel(\"Values\")\n",
    "# Show the plot\n",
    "plt.show()"
   ]
  },
  {
   "cell_type": "code",
   "execution_count": 307,
   "id": "242706d1",
   "metadata": {},
   "outputs": [
    {
     "data": {
      "text/html": [
       "<div>\n",
       "<style scoped>\n",
       "    .dataframe tbody tr th:only-of-type {\n",
       "        vertical-align: middle;\n",
       "    }\n",
       "\n",
       "    .dataframe tbody tr th {\n",
       "        vertical-align: top;\n",
       "    }\n",
       "\n",
       "    .dataframe thead th {\n",
       "        text-align: right;\n",
       "    }\n",
       "</style>\n",
       "<table border=\"1\" class=\"dataframe\">\n",
       "  <thead>\n",
       "    <tr style=\"text-align: right;\">\n",
       "      <th></th>\n",
       "      <th>BOD</th>\n",
       "    </tr>\n",
       "  </thead>\n",
       "  <tbody>\n",
       "    <tr>\n",
       "      <th>45</th>\n",
       "      <td>2.4</td>\n",
       "    </tr>\n",
       "    <tr>\n",
       "      <th>19</th>\n",
       "      <td>1.6</td>\n",
       "    </tr>\n",
       "    <tr>\n",
       "      <th>84</th>\n",
       "      <td>1.0</td>\n",
       "    </tr>\n",
       "    <tr>\n",
       "      <th>10</th>\n",
       "      <td>30.0</td>\n",
       "    </tr>\n",
       "    <tr>\n",
       "      <th>12</th>\n",
       "      <td>28.0</td>\n",
       "    </tr>\n",
       "    <tr>\n",
       "      <th>26</th>\n",
       "      <td>2.9</td>\n",
       "    </tr>\n",
       "    <tr>\n",
       "      <th>74</th>\n",
       "      <td>2.0</td>\n",
       "    </tr>\n",
       "    <tr>\n",
       "      <th>54</th>\n",
       "      <td>8.0</td>\n",
       "    </tr>\n",
       "    <tr>\n",
       "      <th>27</th>\n",
       "      <td>1.1</td>\n",
       "    </tr>\n",
       "    <tr>\n",
       "      <th>57</th>\n",
       "      <td>20.0</td>\n",
       "    </tr>\n",
       "    <tr>\n",
       "      <th>91</th>\n",
       "      <td>3.0</td>\n",
       "    </tr>\n",
       "    <tr>\n",
       "      <th>29</th>\n",
       "      <td>1.4</td>\n",
       "    </tr>\n",
       "    <tr>\n",
       "      <th>85</th>\n",
       "      <td>0.8</td>\n",
       "    </tr>\n",
       "    <tr>\n",
       "      <th>78</th>\n",
       "      <td>1.8</td>\n",
       "    </tr>\n",
       "    <tr>\n",
       "      <th>18</th>\n",
       "      <td>1.1</td>\n",
       "    </tr>\n",
       "    <tr>\n",
       "      <th>11</th>\n",
       "      <td>22.0</td>\n",
       "    </tr>\n",
       "    <tr>\n",
       "      <th>35</th>\n",
       "      <td>2.1</td>\n",
       "    </tr>\n",
       "    <tr>\n",
       "      <th>69</th>\n",
       "      <td>2.4</td>\n",
       "    </tr>\n",
       "    <tr>\n",
       "      <th>81</th>\n",
       "      <td>1.4</td>\n",
       "    </tr>\n",
       "    <tr>\n",
       "      <th>86</th>\n",
       "      <td>1.0</td>\n",
       "    </tr>\n",
       "    <tr>\n",
       "      <th>42</th>\n",
       "      <td>2.4</td>\n",
       "    </tr>\n",
       "    <tr>\n",
       "      <th>6</th>\n",
       "      <td>4.4</td>\n",
       "    </tr>\n",
       "    <tr>\n",
       "      <th>14</th>\n",
       "      <td>28.0</td>\n",
       "    </tr>\n",
       "    <tr>\n",
       "      <th>2</th>\n",
       "      <td>3.6</td>\n",
       "    </tr>\n",
       "    <tr>\n",
       "      <th>87</th>\n",
       "      <td>1.4</td>\n",
       "    </tr>\n",
       "  </tbody>\n",
       "</table>\n",
       "</div>"
      ],
      "text/plain": [
       "     BOD\n",
       "45   2.4\n",
       "19   1.6\n",
       "84   1.0\n",
       "10  30.0\n",
       "12  28.0\n",
       "26   2.9\n",
       "74   2.0\n",
       "54   8.0\n",
       "27   1.1\n",
       "57  20.0\n",
       "91   3.0\n",
       "29   1.4\n",
       "85   0.8\n",
       "78   1.8\n",
       "18   1.1\n",
       "11  22.0\n",
       "35   2.1\n",
       "69   2.4\n",
       "81   1.4\n",
       "86   1.0\n",
       "42   2.4\n",
       "6    4.4\n",
       "14  28.0\n",
       "2    3.6\n",
       "87   1.4"
      ]
     },
     "execution_count": 307,
     "metadata": {},
     "output_type": "execute_result"
    }
   ],
   "source": [
    "#TRAINING AND TESTING DATA SPLIT\n",
    "from sklearn.model_selection import train_test_split\n",
    "X_train,X_test,y_train,y_test=train_test_split(X,y,test_size=0.25,shuffle=True)\n",
    "train_test_split(y, random_state=46)\n",
    "y_test\n"
   ]
  },
  {
   "cell_type": "code",
   "execution_count": 308,
   "id": "8ae07e02",
   "metadata": {},
   "outputs": [
    {
     "name": "stdout",
     "output_type": "stream",
     "text": [
      "Training Features Shape: (75, 1)\n",
      "Testing Features Shape: (25, 1)\n"
     ]
    }
   ],
   "source": [
    "print('Training Features Shape:', y_train.shape)\n",
    "print('Testing Features Shape:', y_test.shape)"
   ]
  },
  {
   "cell_type": "code",
   "execution_count": 309,
   "id": "e812837d",
   "metadata": {},
   "outputs": [
    {
     "name": "stdout",
     "output_type": "stream",
     "text": [
      "Training Features Shape: (75, 7)\n",
      "Testing Features Shape: (25, 7)\n"
     ]
    }
   ],
   "source": [
    "print('Training Features Shape:', X_train.shape)\n",
    "print('Testing Features Shape:', X_test.shape)"
   ]
  },
  {
   "cell_type": "code",
   "execution_count": 317,
   "id": "79c9d6cc",
   "metadata": {},
   "outputs": [
    {
     "data": {
      "text/plain": [
       "array([ 2.0317404,  2.3007128,  2.2283084, 26.183065 , 24.070484 ,\n",
       "        2.4870307,  1.962127 , 12.2985525,  1.2091256, 13.481582 ,\n",
       "       22.595392 ,  2.6684606,  2.047091 ,  2.5397897,  1.58265  ,\n",
       "        9.3419075,  8.812383 ,  0.5467786,  2.381863 ,  5.6447268,\n",
       "        2.0213807,  3.604445 , 16.68897  , 13.595017 ,  2.4050467],\n",
       "      dtype=float32)"
      ]
     },
     "execution_count": 317,
     "metadata": {},
     "output_type": "execute_result"
    }
   ],
   "source": [
    "#XG Boost Regression for BOD Prediction \n",
    "\n",
    "from sklearn.metrics import mean_absolute_error\n",
    "import xgboost as xg\n",
    "from xgboost import XGBRegressor\n",
    "\n",
    "regressor=XGBRegressor(n_estimators=1000, max_depth=7, eta=0.1, subsample=0.7, colsample_bytree=0.8)\n",
    "model=regressor.fit(X_train,y_train.values.ravel())\n",
    "y_pred=model.predict(X_test)\n",
    "y_pred       "
   ]
  },
  {
   "cell_type": "code",
   "execution_count": 318,
   "id": "71112112",
   "metadata": {},
   "outputs": [
    {
     "name": "stdout",
     "output_type": "stream",
     "text": [
      "Mean Absolute  error: 3.8035843219494763\n",
      "Mean Squared error: 37.68408086601014\n",
      "Root Mean square error: 6.138736096788177\n",
      "coefficient of determination: 0.590373042986821\n"
     ]
    }
   ],
   "source": [
    "# Xg Boost ERROR\n",
    "\n",
    "from sklearn import metrics \n",
    "from sklearn.metrics import classification_report, confusion_matrix, accuracy_score\n",
    "import numpy as np\n",
    "print('Mean Absolute  error:', metrics.mean_absolute_error(y_test, y_pred))\n",
    "print('Mean Squared error:',metrics.mean_squared_error(y_test,y_pred))\n",
    "print('Root Mean square error:',np.sqrt(metrics.mean_squared_error(y_test,y_pred)))\n",
    "print('coefficient of determination:', metrics.r2_score(y_test,y_pred))\n"
   ]
  },
  {
   "cell_type": "code",
   "execution_count": 319,
   "id": "4efdbfdc",
   "metadata": {},
   "outputs": [
    {
     "data": {
      "image/png": "[encoded data removed]",
      "text/plain": [
       "<Figure size 432x288 with 1 Axes>"
      ]
     },
     "metadata": {
      "needs_background": "light"
     },
     "output_type": "display_data"
    }
   ],
   "source": [
    "import matplotlib.pyplot as plt\n",
    "# plotting the data\n",
    "plt.scatter(y_test, y_pred)\n",
    "plt.title(\"BOD-XG BOOST\")\n",
    "plt.xlabel('Observed BOD')\n",
    "plt.ylabel('Predicted BOD')\n",
    "plt.show()"
   ]
  },
  {
   "cell_type": "code",
   "execution_count": 320,
   "id": "e3639c88",
   "metadata": {},
   "outputs": [
    {
     "data": {
      "text/plain": [
       "array([ 1.18829269,  1.35859771,  5.79703524, 21.5701256 , 20.58188011,\n",
       "        4.05695007, -1.15417322, 11.1441755 ,  2.63905298, 19.90182327,\n",
       "       15.86693577,  2.7135053 ,  5.98398772,  0.22557234,  3.77076127,\n",
       "        5.6587179 ,  1.83184231,  0.03278   ,  2.09012182,  7.98709877,\n",
       "        0.53586899,  5.8801862 , 20.15629605, 15.19872773,  8.21453257])"
      ]
     },
     "execution_count": 320,
     "metadata": {},
     "output_type": "execute_result"
    }
   ],
   "source": [
    "# BOD USING LINEAR REGRESSION\n",
    "\n",
    "from sklearn.metrics import mean_absolute_error\n",
    "from sklearn.linear_model import LinearRegression\n",
    "Lregressor=LinearRegression() \n",
    "model1=Lregressor.fit(X_train,y_train.values.ravel())\n",
    "y_pred1=model1.predict(X_test)\n",
    "y_pred1      "
   ]
  },
  {
   "cell_type": "code",
   "execution_count": 321,
   "id": "3ed25a05",
   "metadata": {},
   "outputs": [
    {
     "name": "stdout",
     "output_type": "stream",
     "text": [
      "Mean Absolute  error: 4.442217887258623\n",
      "Mean Squared error: 37.924664843688255\n",
      "Root Mean square error: 6.1583004833873005\n",
      "coefficient of determination: 0.5877578887779971\n"
     ]
    }
   ],
   "source": [
    "#ERROR FOR LINEAR REGRESSION\n",
    "from sklearn import metrics \n",
    "from sklearn.metrics import classification_report, confusion_matrix, accuracy_score\n",
    "import numpy as np\n",
    "print('Mean Absolute  error:', metrics.mean_absolute_error(y_test, y_pred1))\n",
    "print('Mean Squared error:',metrics.mean_squared_error(y_test,y_pred1))\n",
    "print('Root Mean square error:',np.sqrt(metrics.mean_squared_error(y_test,y_pred1)))\n",
    "print('coefficient of determination:', metrics.r2_score(y_test,y_pred1))\n"
   ]
  },
  {
   "cell_type": "code",
   "execution_count": 260,
   "id": "a01643eb",
   "metadata": {},
   "outputs": [
    {
     "name": "stdout",
     "output_type": "stream",
     "text": [
      "Coefficients: [0.62629039 0.65153996]\n",
      "Intercept: -150.09063046794745\n"
     ]
    }
   ],
   "source": [
    "# Retrieve the coefficients and intercept\n",
    "coef = model1.coef_\n",
    "intercept = model1.intercept_\n",
    "\n",
    "print(\"Coefficients:\", coef)\n",
    "print(\"Intercept:\", intercept)\n"
   ]
  },
  {
   "cell_type": "code",
   "execution_count": 322,
   "id": "173b903c",
   "metadata": {},
   "outputs": [
    {
     "data": {
      "image/png": "[encoded data removed]",
      "text/plain": [
       "<Figure size 432x288 with 1 Axes>"
      ]
     },
     "metadata": {
      "needs_background": "light"
     },
     "output_type": "display_data"
    }
   ],
   "source": [
    "import matplotlib.pyplot as plt\n",
    "# plotting the data\n",
    "plt.scatter(y_test, y_pred1)\n",
    "plt.title(\"BOD-Linear Regression\")\n",
    "plt.xlabel('Observed BOD')\n",
    "plt.ylabel('Predicted BOD')\n",
    "plt.show()"
   ]
  },
  {
   "cell_type": "code",
   "execution_count": 323,
   "id": "872abcc9",
   "metadata": {},
   "outputs": [
    {
     "data": {
      "text/plain": [
       "array([ 2.34291901,  1.66303622,  5.87375204, 16.294241  , 19.58697778,\n",
       "        5.31087953,  1.10741302, 11.48115354,  2.81602921, 15.55832264,\n",
       "       16.91211545,  3.97986356,  6.1538578 ,  0.12805601,  4.32463709,\n",
       "       11.0292049 ,  1.42810888,  1.08096311,  1.81575663,  9.88211273,\n",
       "        1.1301911 ,  5.8443092 , 19.45622745, 13.97809482,  5.71422944])"
      ]
     },
     "execution_count": 323,
     "metadata": {},
     "output_type": "execute_result"
    }
   ],
   "source": [
    "#BayesianRidge Regression FOR BOD PREDICTION\n",
    "\n",
    "from sklearn.linear_model import BayesianRidge\n",
    "\n",
    "Byregressor = BayesianRidge(alpha_1 = 1e-06, alpha_2 = 1e-06, compute_score = False, copy_X = True,\n",
    "   fit_intercept = True, lambda_1 = 1e-06, lambda_2 = 1e-06, n_iter = 300,\n",
    "   normalize = False, tol=0.001, verbose = False)\n",
    "\n",
    "model2=Byregressor.fit(X_train,y_train.values.ravel())\n",
    "y_pred2=model2.predict(X_test)\n",
    "y_pred2      \n",
    "\n"
   ]
  },
  {
   "cell_type": "code",
   "execution_count": 324,
   "id": "7aa66830",
   "metadata": {},
   "outputs": [
    {
     "name": "stdout",
     "output_type": "stream",
     "text": [
      "Mean Absolute  error: 4.60028809407671\n",
      "Mean Squared error: 38.818986774084394\n",
      "Root Mean square error: 6.230488485992442\n",
      "coefficient of determination: 0.5780365857099754\n"
     ]
    }
   ],
   "source": [
    "#ERROR FOR BayesianRidge Regression\n",
    "from sklearn import metrics \n",
    "from sklearn.metrics import classification_report, confusion_matrix, accuracy_score\n",
    "import numpy as np\n",
    "print('Mean Absolute  error:', metrics.mean_absolute_error(y_test, y_pred2))\n",
    "print('Mean Squared error:',metrics.mean_squared_error(y_test,y_pred2))\n",
    "print('Root Mean square error:',np.sqrt(metrics.mean_squared_error(y_test,y_pred2)))\n",
    "print('coefficient of determination:', metrics.r2_score(y_test,y_pred2))"
   ]
  },
  {
   "cell_type": "code",
   "execution_count": 325,
   "id": "47871c33",
   "metadata": {},
   "outputs": [
    {
     "data": {
      "image/png": "[encoded data removed]",
      "text/plain": [
       "<Figure size 432x288 with 1 Axes>"
      ]
     },
     "metadata": {
      "needs_background": "light"
     },
     "output_type": "display_data"
    }
   ],
   "source": [
    "import matplotlib.pyplot as plt\n",
    "# plotting the data\n",
    "plt.scatter(y_test, y_pred2)\n",
    "plt.title(\"BOD-BayesianRidge Regression\")\n",
    "plt.xlabel('Observed BOD')\n",
    "plt.ylabel('Predicted BOD')\n",
    "plt.show()"
   ]
  },
  {
   "cell_type": "code",
   "execution_count": 326,
   "id": "9c174214",
   "metadata": {},
   "outputs": [
    {
     "data": {
      "text/plain": [
       "array([[ 2.4       ],\n",
       "       [ 1.6       ],\n",
       "       [ 1.        ],\n",
       "       [30.        ],\n",
       "       [28.        ],\n",
       "       [ 2.9       ],\n",
       "       [ 2.        ],\n",
       "       [ 8.        ],\n",
       "       [ 1.1       ],\n",
       "       [20.        ],\n",
       "       [ 3.        ],\n",
       "       [ 1.4       ],\n",
       "       [ 0.80000001],\n",
       "       [ 1.8       ],\n",
       "       [ 1.1       ],\n",
       "       [22.        ],\n",
       "       [ 2.1       ],\n",
       "       [ 2.4       ],\n",
       "       [ 1.4       ],\n",
       "       [ 1.        ],\n",
       "       [ 2.4       ],\n",
       "       [ 4.4000001 ],\n",
       "       [28.        ],\n",
       "       [ 3.5999999 ],\n",
       "       [ 1.39999998]])"
      ]
     },
     "execution_count": 326,
     "metadata": {},
     "output_type": "execute_result"
    }
   ],
   "source": [
    "observed = np.array(y_test)\n",
    "observed"
   ]
  },
  {
   "cell_type": "code",
   "execution_count": 327,
   "id": "15f2fc40",
   "metadata": {},
   "outputs": [
    {
     "name": "stdout",
     "output_type": "stream",
     "text": [
      "+--------------+--------------------+-----------------------+------------------------------+\n",
      "| observed BOD |    BOD-XG Boost    | BOD-Linear Regression | BOD-BayesianRidge Regression |\n",
      "+--------------+--------------------+-----------------------+------------------------------+\n",
      "|    [2.4]     | 2.031740427017212  |  1.1882926936313467   |      2.342919014589281       |\n",
      "|    [1.6]     | 2.300712823867798  |  1.3585977132235065   |      1.663036221168447       |\n",
      "|     [1.]     | 2.2283084392547607 |   5.797035242771091   |      5.873752040598795       |\n",
      "|    [30.]     | 26.18306541442871  |  21.570125601780923   |      16.294241001020314      |\n",
      "|    [28.]     | 24.070484161376953 |  20.581880107016474   |       19.5869777777521       |\n",
      "|    [2.9]     | 2.4870307445526123 |  4.0569500666154426   |      5.310879530303494       |\n",
      "|     [2.]     | 1.9621269702911377 |  -1.154173220995112   |      1.107413023072045       |\n",
      "|     [8.]     | 12.298552513122559 |  11.144175501226055   |      11.481153537410325      |\n",
      "|    [1.1]     | 1.2091256380081177 |   2.639052975713458   |       2.81602921070637       |\n",
      "|    [20.]     | 13.481581687927246 |   19.90182327237296   |      15.558322644128504      |\n",
      "|     [3.]     | 22.59539222717285  |   15.86693576509244   |      16.912115450420703      |\n",
      "|    [1.4]     | 2.6684606075286865 |   2.713505297742575   |      3.9798635562855313      |\n",
      "| [0.80000001] | 2.047091007232666  |  5.9839877211880115   |      6.153857795746671       |\n",
      "|    [1.8]     | 2.5397896766662598 |  0.2255723446141289   |     0.12805600890476043      |\n",
      "|    [1.1]     | 1.5826499462127686 |   3.770761272092944   |      4.324637087714237       |\n",
      "|    [22.]     | 9.341907501220703  |   5.658717897203751   |      11.029204898433596      |\n",
      "|    [2.1]     | 8.812382698059082  |  1.8318423070543588   |      1.4281088805874127      |\n",
      "|    [2.4]     | 0.5467786192893982 |  0.0327800046718103   |      1.080963105828376       |\n",
      "|    [1.4]     | 2.3818631172180176 |  2.0901218211266865   |      1.815756633252974       |\n",
      "|     [1.]     | 5.644726753234863  |   7.987098767133171   |      9.882112730507108       |\n",
      "|    [2.4]     | 2.021380662918091  |  0.5358689924504176   |      1.1301910962661754      |\n",
      "| [4.4000001]  | 3.604444980621338  |  5.8801862005415835   |      5.844309197799844       |\n",
      "|    [28.]     |  16.6889705657959  |   20.15629604646191   |      19.456227454823967      |\n",
      "| [3.5999999]  | 13.595017433166504 |  15.198727732274099   |      13.97809481752387       |\n",
      "| [1.39999998] | 2.4050467014312744 |   8.214532565434489   |      5.714229435885896       |\n",
      "+--------------+--------------------+-----------------------+------------------------------+\n"
     ]
    }
   ],
   "source": [
    "#TABLE FOR BOD VALUES BY ALL THREE TECHNIQUES\n",
    "# import module\n",
    "from tabulate import tabulate\n",
    "\n",
    "# assign data\n",
    "mydata = ['observed','y_pred','y_pred1','y_pred2']\n",
    "\n",
    "# Combine into a list of lists for tabulate\n",
    "predictions = list(zip(observed,y_pred, y_pred1, y_pred2))\n",
    "\n",
    "# Headers for the table\n",
    "headers = [\"observed BOD\",\"BOD-XG Boost\", \"BOD-Linear Regression\", \"BOD-BayesianRidge Regression\"]\n",
    "\n",
    "# Print the table using tabulate with \"pretty\" table format for better alignment\n",
    "print(tabulate(predictions, headers=headers, tablefmt=\"pretty\"))"
   ]
  },
  {
   "cell_type": "code",
   "execution_count": 328,
   "id": "f637c56c",
   "metadata": {},
   "outputs": [],
   "source": [
    "#ERRORS \n",
    "errorxg1=np.sqrt(metrics.mean_squared_error(y_test,y_pred))\n",
    "errorxg2=metrics.r2_score(y_test,y_pred)\n",
    "errorLR1=np.sqrt(metrics.mean_squared_error(y_test,y_pred1))\n",
    "errorLR2=metrics.r2_score(y_test,y_pred1)\n",
    "errorBR1=np.sqrt(metrics.mean_squared_error(y_test,y_pred2))\n",
    "errorBR2=metrics.r2_score(y_test,y_pred2)"
   ]
  },
  {
   "cell_type": "code",
   "execution_count": 329,
   "id": "cef034df",
   "metadata": {},
   "outputs": [
    {
     "name": "stdout",
     "output_type": "stream",
     "text": [
      "+------------------------------+-------------------+--------------------+--------------------+\n",
      "|            ERROR             |     XG Boost      | Linear Regression  | BayesianRidge Regr |\n",
      "+------------------------------+-------------------+--------------------+--------------------+\n",
      "|   Root mean squared error    | 6.138736096788177 | 6.1583004833873005 | 6.230488485992442  |\n",
      "| Coefficient of determination | 0.590373042986821 | 0.5877578887779971 | 0.5780365857099754 |\n",
      "+------------------------------+-------------------+--------------------+--------------------+\n"
     ]
    }
   ],
   "source": [
    "# ERRORS IN A TABLE\n",
    "data = [[errorxg1, errorLR1,errorBR1],[errorxg2, errorLR2,errorBR2]   ]\n",
    "\n",
    "# Additional column data\n",
    "error_metrics = [\"Root mean squared error\", \"Coefficient of determination\"]\n",
    "\n",
    "# Add the additional column to the left of each row in data\n",
    "for i in range(len(data)):\n",
    "    data[i] = [error_metrics[i]] + data[i]\n",
    "\n",
    "# Headers for the table including the new column\n",
    "headers = [\"ERROR\", \"XG Boost\", \"Linear Regression\", \"BayesianRidge Regr\"]\n",
    "\n",
    "# Calculate maximum width for each column\n",
    "max_widths = [max(len(str(row[i])) for row in data) for i in range(len(headers))]\n",
    "\n",
    "# Print the table\n",
    "print(\"+\" + \"+\".join(\"-\" * (width + 2) for width in max_widths) + \"+\")\n",
    "print(\"|\" + \"|\".join(f\" {headers[i]:^{max_widths[i]}} \" for i in range(len(headers))) + \"|\")\n",
    "print(\"+\" + \"+\".join(\"-\" * (width + 2) for width in max_widths) + \"+\")\n",
    "for row in data:\n",
    "    print(\"|\" + \"|\".join(f\" {str(cell):^{max_widths[i]}} \" for i, cell in enumerate(row)) + \"|\")\n",
    "\n",
    "print(\"+\" + \"+\".join(\"-\" * (width + 2) for width in max_widths) + \"+\")"
   ]
  }
 ],
 "metadata": {
  "kernelspec": {
   "display_name": "Python 3",
   "language": "python",
   "name": "python3"
  },
  "language_info": {
   "codemirror_mode": {
    "name": "ipython",
    "version": 3
   },
   "file_extension": ".py",
   "mimetype": "text/x-python",
   "name": "python",
   "nbconvert_exporter": "python",
   "pygments_lexer": "ipython3",
   "version": "3.8.8"
  }
 },
 "nbformat": 4,
 "nbformat_minor": 5
}
