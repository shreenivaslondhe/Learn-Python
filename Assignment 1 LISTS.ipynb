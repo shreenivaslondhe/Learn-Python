{
 "cells": [
  {
   "cell_type": "code",
   "execution_count": 25,
   "id": "f4622a03",
   "metadata": {},
   "outputs": [
    {
     "name": "stdout",
     "output_type": "stream",
     "text": [
      " The addition is: 40\n"
     ]
    }
   ],
   "source": [
    "#1. Write a python program to sum all the items in a list\n",
    "my_list=[2,3,5,6,7,8,9]                             #..............Defined the list\n",
    "Add=0                                              #.Made a variable ADD with value 0\n",
    "for number in range(0,len(my_list)):               # a variable number which will go from 0 to length of my_list\n",
    "    Add = Add + my_list[number]                   #Add= earlier number +new.  1st Itre: 0+2, 2nd Itre: 2+3, 3rd Itre: 5+5...\n",
    "print(\" The addition is:\", Add)"
   ]
  },
  {
   "cell_type": "code",
   "execution_count": 26,
   "id": "c668a990",
   "metadata": {},
   "outputs": [
    {
     "name": "stdout",
     "output_type": "stream",
     "text": [
      "The even numbers are: [20, 22, 24, 26, 28, 30]\n"
     ]
    }
   ],
   "source": [
    "#2. Create a function that takes a list of numbers as input and returns a new list with \n",
    "#only the even numbers from the original list\n",
    "\n",
    "def enumbers(my_list):\n",
    "    even_numbers = []                        # Initialize an empty list to store even numbers\n",
    "    \n",
    "    for number in my_list:                   # Loop through each number in the input list\n",
    "        if number % 2 == 0:                  # Check if the number is even\n",
    "            even_numbers.append(number)      # If it is, append it to the even_numbers list\n",
    "    return even_numbers                  # Return the list of even numbers\n",
    "    \n",
    "number= [20,21,22,23,24,25,26,27,28,29,30]\n",
    "even_numbers = enumbers(number)\n",
    "print(\"The even numbers are:\",even_numbers)\n"
   ]
  },
  {
   "cell_type": "code",
   "execution_count": 17,
   "id": "e1931f4c",
   "metadata": {},
   "outputs": [
    {
     "name": "stdout",
     "output_type": "stream",
     "text": [
      "Original List: [1, 2, 2, 3, 4, 4, 5, 8, 9]\n",
      "List with Duplicates Removed: [1, 2, 3, 4, 5, 8, 9]\n"
     ]
    }
   ],
   "source": [
    "#3. write a python program to remove duplicates from a list\n",
    "def remove_duplicates(input_list):               #define function remove_duplicates\n",
    "    output_list = []                             #make an empty output_list\n",
    "    for number in input_list:                      # start a loop to check number from input_list\n",
    "        if number not in output_list:             # if number is not in output then appendi.e add in output_list\n",
    "            output_list.append(number)\n",
    "    return output_list                            # return the output_list\n",
    "\n",
    "# Example usage:\n",
    "input_list = [1, 2, 2, 3, 4, 4, 5,8,9]            \n",
    "print(\"Original List:\", input_list)\n",
    "print(\"List with Duplicates Removed:\", remove_duplicates(input_list))\n",
    "\n"
   ]
  },
  {
   "cell_type": "code",
   "execution_count": 20,
   "id": "59ab1709",
   "metadata": {},
   "outputs": [
    {
     "name": "stdout",
     "output_type": "stream",
     "text": [
      "Second Largest Number: 99\n"
     ]
    }
   ],
   "source": [
    "#4. Implement a function to find the second largest number in a list\n",
    "def find_second_largest(input_list):                     #make a function find_second largest and has an input in input_list\n",
    "    if len(input_list) < 2:                              # check if input_list has a length more than 2...\n",
    "                                                            #if its more than 2 then only we can find largest\n",
    "        return \"List must have at least two elements\"      # return the print if the input is only 1 numbers\n",
    "    max_num = max(input_list)                              # make a max_num variable and take maxnumber from input_list\n",
    "    input_list.remove(max_num)                             # remove tht max number from input list\n",
    "    second_max = max(input_list)                          # now you have the max number in input_list which is second largest\n",
    "    return second_max                                     #return the second max number now\n",
    "\n",
    "# Example usage:\n",
    "input_list = [100, 20, 4, 45, 99]                          # take input\n",
    "print(\"Second Largest Number:\", find_second_largest(input_list))    # print the second largest\n"
   ]
  },
  {
   "cell_type": "code",
   "execution_count": 23,
   "id": "b7d62d5d",
   "metadata": {},
   "outputs": [
    {
     "name": "stdout",
     "output_type": "stream",
     "text": [
      "Original List: [1, 2, 3, 4, 5]\n",
      "Shuffled List: [5, 2, 4, 1, 3]\n"
     ]
    }
   ],
   "source": [
    "#5. write a python program to shuffle and print a list\n",
    "import random                                 #import the random module\n",
    "\n",
    "my_list = [1, 2, 3, 4, 5]                    # define a my_list\n",
    "print(\"Original List:\", my_list)             # print original list\n",
    "\n",
    "random.shuffle(my_list)                     # shuffle numbers using random.shuffle\n",
    "print(\"Shuffled List:\", my_list)            #print\n"
   ]
  }
 ],
 "metadata": {
  "kernelspec": {
   "display_name": "Python 3",
   "language": "python",
   "name": "python3"
  },
  "language_info": {
   "codemirror_mode": {
    "name": "ipython",
    "version": 3
   },
   "file_extension": ".py",
   "mimetype": "text/x-python",
   "name": "python",
   "nbconvert_exporter": "python",
   "pygments_lexer": "ipython3",
   "version": "3.8.8"
  }
 },
 "nbformat": 4,
 "nbformat_minor": 5
}
