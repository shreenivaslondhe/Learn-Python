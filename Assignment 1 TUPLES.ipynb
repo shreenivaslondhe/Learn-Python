{
 "cells": [
  {
   "cell_type": "code",
   "execution_count": 2,
   "id": "2b15fbaf",
   "metadata": {},
   "outputs": [
    {
     "name": "stdout",
     "output_type": "stream",
     "text": [
      "Original Tuple: (20, 30, 40, 50, 60, 70, 80, 90, 100)\n",
      "Reversed Tuple: (100, 90, 80, 70, 60, 50, 40, 30, 20)\n"
     ]
    }
   ],
   "source": [
    "#1.  Write a Python program to reverse a tuple.\n",
    "\n",
    "def reverse_tuple(input_tuple):                #write a function reverse_tuple and define variable to take input in input_tuple\n",
    "    reversed_list = list(input_tuple)[::-1]    # convert the input_tuple to list and read it through slicing as [::-1]means read\n",
    "                                                 #each number backwards i.e from last number to first\n",
    "    reversed_tuple = tuple(reversed_list)         # the previous reversed back list is converted to tuple using tuple()\n",
    "    return reversed_tuple                        # return the reversed tuple now\n",
    "\n",
    "# Example usage:\n",
    "my_tuple = (20,30,40,50,60,70,80,90,100)\n",
    "print(\"Original Tuple:\", my_tuple)\n",
    "print(\"Reversed Tuple:\", reverse_tuple(my_tuple))\n"
   ]
  },
  {
   "cell_type": "code",
   "execution_count": 8,
   "id": "40722a74",
   "metadata": {},
   "outputs": [
    {
     "name": "stdout",
     "output_type": "stream",
     "text": [
      "Common Elements: (1, 3, 4, 5)\n"
     ]
    }
   ],
   "source": [
    "#2. Create a function that takes two tuples as input and returns a new tuple containing elements that are common in both tuples.\n",
    "def common_elements(tuple1, tuple2):              # define function with two tuples 1 and 2\n",
    "    common = ()                                  # empty tuple common\n",
    "    for number in tuple1:                          # start by checking number in tuple 1 i.e start itreating \n",
    "        if number in tuple2 and number not in common:  #check if number from tuple 1 is in tuple 2 and not in common()\n",
    "            common += (number,)                       # if so then add that number in common\n",
    "    return common\n",
    "\n",
    "# Example usage:\n",
    "tuple1 = (1, 2, 3, 4, 5)\n",
    "tuple2 = (4, 5, 6, 7, 8,3,1)\n",
    "result = common_elements(tuple1, tuple2)\n",
    "print(\"Common Elements:\", result)\n"
   ]
  },
  {
   "cell_type": "code",
   "execution_count": 11,
   "id": "67629ed6",
   "metadata": {},
   "outputs": [
    {
     "name": "stdout",
     "output_type": "stream",
     "text": [
      "The String now is: BIRYANI\n"
     ]
    }
   ],
   "source": [
    "#3. Write a Python program to convert a tuple to a string.\n",
    "my_tuple = ('B', 'I', 'R', 'Y', 'A', 'N', 'I') ## Create a tuple containing individual characters\n",
    "string = ''.join(my_tuple)                    ## Use the 'join' method to concatenate the characters in the \n",
    "                                             #tuple without any spaces and create a single string\n",
    "print(\"The String now is:\",string)\n",
    "\n"
   ]
  },
  {
   "cell_type": "code",
   "execution_count": 16,
   "id": "67ae784e",
   "metadata": {},
   "outputs": [
    {
     "name": "stdout",
     "output_type": "stream",
     "text": [
      "Index of 3 in (1, 2, 3, 4, 5) is 2\n"
     ]
    }
   ],
   "source": [
    "#4. Implement a function to find the index of an element in a tuple.\n",
    "def index_tuple(my_tuple,element):  #define a function index_tuple which has my_tuple and elements in that\n",
    "    return my_tuple.index(element) if element in my_tuple else -1  #return using the function .index(). and through if elemnt \n",
    "                                                                     #is present in my_tuple. If not then give value -1\n",
    "# Example usage:\n",
    "my_tuple = (1, 2, 3, 4, 5)\n",
    "element = 3\n",
    "index = index_tuple(my_tuple,element)\n",
    "print(f\"Index of {element} in {my_tuple} is {index}\")\n",
    "\n"
   ]
  },
  {
   "cell_type": "code",
   "execution_count": 17,
   "id": "d816ca34",
   "metadata": {},
   "outputs": [
    {
     "name": "stdout",
     "output_type": "stream",
     "text": [
      "Index of 8 in (1, 2, 3, 4, 5) is -1\n"
     ]
    }
   ],
   "source": [
    "#4. Implement a function to find the index of an element in a tuple.\n",
    "def index_tuple(my_tuple,element):  #define a function index_tuple which has my_tuple and elements in that\n",
    "    return my_tuple.index(element) if element in my_tuple else -1  #return using the function .index(). and through if elemnt \n",
    "                                                                     #is present in my_tuple. If not then give value -1\n",
    "# Example usage:\n",
    "my_tuple = (1, 2, 3, 4, 5)\n",
    "element = 8\n",
    "index = index_tuple(my_tuple,element)\n",
    "print(f\"Index of {element} in {my_tuple} is {index}\")\n"
   ]
  },
  {
   "cell_type": "code",
   "execution_count": 18,
   "id": "b63a6b44",
   "metadata": {},
   "outputs": [
    {
     "name": "stdout",
     "output_type": "stream",
     "text": [
      "The first tuple is : \n",
      "(20, 30, 40, 5, 0, 90, 100)\n",
      "The second tuple is : \n",
      "(6, 2, 3, 89, 78, 60, 15, 20, 45, 87)\n",
      "The tuple after concatenation is : \n",
      "(20, 30, 40, 5, 0, 90, 100, 6, 2, 3, 89, 78, 60, 15, 20, 45, 87)\n"
     ]
    }
   ],
   "source": [
    "#5. Create a program to concatenate two tuples. \n",
    "#(Concatenating means obtaining a new string that contains both of the original strings)\n",
    "my_tuple_1 = (20,30,40,5,0,90,100)\n",
    "my_tuple_2 = (6,2,3,89,78,60,15,20,45,87)\n",
    "\n",
    "print(\"The first tuple is : \")\n",
    "print(my_tuple_1)\n",
    "print(\"The second tuple is : \")\n",
    "print(my_tuple_2)\n",
    "\n",
    "my_result = my_tuple_1 + my_tuple_2\n",
    "\n",
    "print(\"The tuple after concatenation is : \" )\n",
    "print(my_result)"
   ]
  },
  {
   "cell_type": "code",
   "execution_count": 20,
   "id": "8d4e883f",
   "metadata": {},
   "outputs": [
    {
     "name": "stdout",
     "output_type": "stream",
     "text": [
      " The The tuple after concatenation is : (20, 30, 40, 5, 0, 90, 100, 6, 2, 3, 89, 78, 60, 15, 20, 45, 87)\n"
     ]
    }
   ],
   "source": [
    "def concatenate_tuples(tuple1, tuple2):\n",
    "    return tuple1 + tuple2\n",
    "\n",
    "# Example usage:\n",
    "tuple1 = (20,30,40,5,0,90,100)\n",
    "tuple2 = (6,2,3,89,78,60,15,20,45,87)\n",
    "\n",
    "result = concatenate_tuples(tuple1, tuple2)\n",
    "print(\" The The tuple after concatenation is :\",result) "
   ]
  },
  {
   "cell_type": "code",
   "execution_count": null,
   "id": "fdc3fb8b",
   "metadata": {},
   "outputs": [],
   "source": []
  }
 ],
 "metadata": {
  "kernelspec": {
   "display_name": "Python 3",
   "language": "python",
   "name": "python3"
  },
  "language_info": {
   "codemirror_mode": {
    "name": "ipython",
    "version": 3
   },
   "file_extension": ".py",
   "mimetype": "text/x-python",
   "name": "python",
   "nbconvert_exporter": "python",
   "pygments_lexer": "ipython3",
   "version": "3.8.8"
  }
 },
 "nbformat": 4,
 "nbformat_minor": 5
}
