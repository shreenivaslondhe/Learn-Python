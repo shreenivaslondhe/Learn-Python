{
 "cells": [
  {
   "cell_type": "code",
   "execution_count": 3,
   "id": "f0aa80ca",
   "metadata": {},
   "outputs": [
    {
     "name": "stdout",
     "output_type": "stream",
     "text": [
      "{'-2', 'apple', '20', '$#36.78', 'banana'}\n"
     ]
    }
   ],
   "source": [
    "#1. Write a Python program to create a set.\n",
    "#Set is a data type in python used to store several items in a single variable\n",
    "\n",
    "myset = {\"-2\",\"apple\",\"20\", \"banana\",\"$#\" \"36.78\"}\n",
    "print(myset)\n",
    "\n"
   ]
  },
  {
   "cell_type": "code",
   "execution_count": 7,
   "id": "f06df288",
   "metadata": {},
   "outputs": [
    {
     "name": "stdout",
     "output_type": "stream",
     "text": [
      "The common elements in the two lists are: \n",
      "[5]\n"
     ]
    }
   ],
   "source": [
    "#2. Create a function that takes two sets as input and returns a new set containing elements that are common in both sets.\n",
    "def common_member(set1, set2):\n",
    "    result = [element for element in set1 if element in set2]  #check if element from set1 is same as element in set2\n",
    "    return result\n",
    "\n",
    "set1 = [1, 2, 3, 4, 5]\n",
    "set2 = [5, 6, 7, 8, 9]\n",
    "\n",
    "print(\"The common elements in the two lists are: \")\n",
    "print(common_member(set1, set2))\n",
    "\n"
   ]
  },
  {
   "cell_type": "code",
   "execution_count": 10,
   "id": "56e6e6f3",
   "metadata": {},
   "outputs": [
    {
     "name": "stdout",
     "output_type": "stream",
     "text": [
      "Intersection using intersection(): {320, 25}\n"
     ]
    }
   ],
   "source": [
    "#2. Create a function that takes two sets as input and returns a new set containing elements that are common in both sets.\n",
    "# first set\n",
    "set1 = {10, 6, 25, 45, 580,320}\n",
    "\n",
    "# second set\n",
    "set2 = {25,50, 36, 87, 48, 320}\n",
    "\n",
    "# perform intersection operation using intersection()\n",
    "print('Intersection using intersection():', set1.intersection(set2))  #use inbuilt intersection command"
   ]
  },
  {
   "cell_type": "code",
   "execution_count": 13,
   "id": "e6dee3b8",
   "metadata": {},
   "outputs": [
    {
     "name": "stdout",
     "output_type": "stream",
     "text": [
      "Difference using &: {10, 580, 45, 6}\n",
      "Difference using difference(): {10, 580, 45, 6}\n"
     ]
    }
   ],
   "source": [
    "#3. Write a Python program to find the difference between two sets.\n",
    "#The difference between two sets A and B include elements of set A that are not present on set B.\n",
    "# first set\n",
    "set1 = {10, 6, 25, 45, 580,320}\n",
    "\n",
    "# second set\n",
    "set2 = {25,50,36, 87, 48, 320}\n",
    "\n",
    "\n",
    "print('Difference using &:', set1 - set2)         #use inbuilt difference command\n",
    "      \n",
    "#OR\n",
    "\n",
    "print('Difference using difference():', set1.difference(set2))      #use inbuilt difference() command\n"
   ]
  },
  {
   "cell_type": "code",
   "execution_count": 15,
   "id": "d976f3cc",
   "metadata": {},
   "outputs": [
    {
     "name": "stdout",
     "output_type": "stream",
     "text": [
      "False\n"
     ]
    }
   ],
   "source": [
    "#4. Implement a function to check if a set is a subset of another set.\n",
    "#The issubset() method returns True if set A is the subset of B, \n",
    "#i.e. if all the elements of set A are present in set B . Else, it returns False.\n",
    "set1 = {10, 6, 25, 45, 580,320}\n",
    "set2 = {25,50,36, 87, 48, 320}\n",
    "\n",
    "# all items of A are present in B\n",
    "print(set1.issubset(set2))\n",
    "\n"
   ]
  },
  {
   "cell_type": "code",
   "execution_count": 17,
   "id": "f68249c2",
   "metadata": {},
   "outputs": [
    {
     "name": "stdout",
     "output_type": "stream",
     "text": [
      "True\n"
     ]
    }
   ],
   "source": [
    "#4. Implement a function to check if a set is a subset of another set.\n",
    "#The issubset() method returns True if set A is the subset of B, \n",
    "#i.e. if all the elements of set A are present in set B . Else, it returns False.\n",
    "set1 = {10, 6, 25}\n",
    "set2 = {10, 6, 25, 87, 48, 320}\n",
    "\n",
    "# all items of A are present in B\n",
    "print(set1.issubset(set2))\n"
   ]
  },
  {
   "cell_type": "code",
   "execution_count": 21,
   "id": "375ed959",
   "metadata": {},
   "outputs": [
    {
     "name": "stdout",
     "output_type": "stream",
     "text": [
      "Union of set1 and set2 is {320, 580, 36, 6, 10, 45, 48, 50, 87, 25}\n",
      "Intersection of set1 and set2 is {320, 25}\n",
      "Difference of set1 and set2 is {10, 580, 45, 6}\n",
      "Symmetric difference of set1 and set2 is {580, 6, 10, 87, 36, 45, 48, 50}\n"
     ]
    }
   ],
   "source": [
    "#5. Create a program to perform set operations like union, intersection, difference, and symmetric difference.\n",
    "# A union of sets is a set that contains all the elements present in either set.\n",
    "# define three sets\n",
    "set1 = {10, 6, 25, 45, 580,320}\n",
    "set2 = {25, 50, 36, 87, 48, 320}\n",
    "\n",
    "# set union\n",
    "print(\"Union of set1 and set2 is\",set1 | set2)\n",
    "\n"
   ]
  },
  {
   "cell_type": "code",
   "execution_count": 22,
   "id": "5fb93f30",
   "metadata": {},
   "outputs": [
    {
     "name": "stdout",
     "output_type": "stream",
     "text": [
      "Intersection of set1 and set2 is {320, 25}\n"
     ]
    }
   ],
   "source": [
    "#An intersection is a set that contains all the elements that are present within both sets. \n",
    "# set intersection\n",
    "print(\"Intersection of set1 and set2 is\",set1 & set2)\n"
   ]
  },
  {
   "cell_type": "code",
   "execution_count": 23,
   "id": "7c3fa9d3",
   "metadata": {},
   "outputs": [
    {
     "name": "stdout",
     "output_type": "stream",
     "text": [
      "Difference of set1 and set2 is {10, 580, 45, 6}\n"
     ]
    }
   ],
   "source": [
    "#The difference between the set you are working with and another set is all the elements \n",
    "#present in the first set and not present in the second set.\n",
    "\n",
    "# set difference\n",
    "print(\"Difference of set1 and set2 is\",set1 - set2)\n",
    "\n"
   ]
  },
  {
   "cell_type": "code",
   "execution_count": 24,
   "id": "908a5e62",
   "metadata": {},
   "outputs": [
    {
     "name": "stdout",
     "output_type": "stream",
     "text": [
      "Symmetric difference of set1 and set2 is {580, 6, 10, 87, 36, 45, 48, 50}\n"
     ]
    }
   ],
   "source": [
    "#The symmetric difference between two sets is a set that contains all the \n",
    "#elements that are in one of the two sets, but not both.\n",
    "\n",
    "# set symmetric difference\n",
    "print(\"Symmetric difference of set1 and set2 is\",set1 ^ set2)"
   ]
  },
  {
   "cell_type": "code",
   "execution_count": null,
   "id": "6aa3ec1b",
   "metadata": {},
   "outputs": [],
   "source": []
  }
 ],
 "metadata": {
  "kernelspec": {
   "display_name": "Python 3",
   "language": "python",
   "name": "python3"
  },
  "language_info": {
   "codemirror_mode": {
    "name": "ipython",
    "version": 3
   },
   "file_extension": ".py",
   "mimetype": "text/x-python",
   "name": "python",
   "nbconvert_exporter": "python",
   "pygments_lexer": "ipython3",
   "version": "3.8.8"
  }
 },
 "nbformat": 4,
 "nbformat_minor": 5
}
