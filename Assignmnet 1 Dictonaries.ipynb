{
 "cells": [
  {
   "cell_type": "code",
   "execution_count": 2,
   "id": "639a0dc7",
   "metadata": {},
   "outputs": [
    {
     "name": "stdout",
     "output_type": "stream",
     "text": [
      "Sorted dictionary in ascending order:\n",
      "Hi: 1\n",
      "lovely: 3\n",
      "weather: 4\n",
      "Its: 5\n",
      "\n",
      "Sorted dictionary in descending order:\n",
      "Its: 5\n",
      "weather: 4\n",
      "lovely: 3\n",
      "Hi: 1\n"
     ]
    }
   ],
   "source": [
    "#1. Write a Python script to sort (ascending and descending) a dictionary by its values.\n",
    "# Sort dictionary by values in ascending order\n",
    "\n",
    "my_dict = {\"Hi\": 1, \"Its\": 5, \"lovely\": 3,\"weather\":4} #define dictionary with values\n",
    "\n",
    "print(\"Sorted dictionary in ascending order:\")\n",
    "for key, value in sorted(my_dict.items(), key=lambda x: x[1]): #\n",
    "    print(f\"{key}: {value}\")\n",
    "\n",
    "print(\"\\nSorted dictionary in descending order:\")\n",
    "for key, value in sorted(my_dict.items(), key=lambda x: x[1], reverse=True):\n",
    "    print(f\"{key}: {value}\")\n"
   ]
  },
  {
   "cell_type": "code",
   "execution_count": 5,
   "id": "6b15a1a3",
   "metadata": {},
   "outputs": [
    {
     "name": "stdout",
     "output_type": "stream",
     "text": [
      "The sum of values in dictionary are: 13\n"
     ]
    }
   ],
   "source": [
    "#2. Create a function that takes a dictionary as input and returns the sum of all its values.\n",
    "def sum_values(dictionary):\n",
    "    total = 0\n",
    "    for value in dictionary.values():\n",
    "        total += value\n",
    "    return total\n",
    "\n",
    "my_dict = {\"Hi\": 1, \"Its\": 5, \"lovely\": 3,\"weather\":4}\n",
    "result = sum_values(my_dict)\n",
    "print(\"The sum of values in dictionary are:\",result) \n"
   ]
  },
  {
   "cell_type": "code",
   "execution_count": 17,
   "id": "def63118",
   "metadata": {},
   "outputs": [
    {
     "name": "stdout",
     "output_type": "stream",
     "text": [
      "{'b': 20, 'c': 50, 'e': 60, 'd': 1, 'a': 40}\n"
     ]
    }
   ],
   "source": [
    "#3. Write a Python program to combine two dictionary adding values for common keys.\n",
    "\n",
    "# adding the values with common key\n",
    "\n",
    "\n",
    "def combine_dicts(dict1, dict2):\n",
    "    combined_dict = {}\n",
    "    all_keys = set(dict1.keys()) | set(dict2.keys())\n",
    "    for key in all_keys:\n",
    "        combined_dict[key] = dict1.get(key, 0) + dict2.get(key, 0)  #returns the value associated with key in dict1, \n",
    "                                                                    #or 0 if key is not present in dict1\n",
    "    return combined_dict\n",
    "\n",
    "\n",
    "dict1 = {'a': 10, 'b': 20, 'c': 50}\n",
    "dict2 = {'d': 1, 'e': 60, 'a': 30}\n",
    "\n",
    "combined_dict = combine_dicts(dict1, dict2)\n",
    "print(combined_dict)"
   ]
  },
  {
   "cell_type": "code",
   "execution_count": 23,
   "id": "06299018",
   "metadata": {},
   "outputs": [
    {
     "name": "stdout",
     "output_type": "stream",
     "text": [
      "Present in the dictionary\n"
     ]
    }
   ],
   "source": [
    "#4. Implement a function to check if a given key already exists in a dictionary.\n",
    "dict = {'a': 500, 'b':800, 'c':300,'d':60} \n",
    "\n",
    "# check if \"b\" is none or not. \n",
    "if dict.get('d') == None:    #use nbuilt method get() \n",
    "    print(\"Not Present in the dictionary\") \n",
    "else: \n",
    "    print(\"Present in the dictionary\")\n",
    "\n"
   ]
  },
  {
   "cell_type": "code",
   "execution_count": 24,
   "id": "865c8a33",
   "metadata": {},
   "outputs": [
    {
     "name": "stdout",
     "output_type": "stream",
     "text": [
      "Not Present in the dictionary\n"
     ]
    }
   ],
   "source": [
    "#4. Implement a function to check if a given key already exists in a dictionary.\n",
    "dict = {'a': 500, 'b':800, 'c':300,'d':60} \n",
    "\n",
    "# check if \"b\" is none or not. \n",
    "if dict.get('f') == None:    #use nbuilt method get() \n",
    "    print(\"Not Present in the dictionary\") \n",
    "else: \n",
    "    print(\"Present in the dictionary\")\n"
   ]
  },
  {
   "cell_type": "code",
   "execution_count": 26,
   "id": "53161d56",
   "metadata": {},
   "outputs": [
    {
     "name": "stdout",
     "output_type": "stream",
     "text": [
      "a 500\n",
      "b 800\n",
      "c 300\n",
      "d 60\n"
     ]
    }
   ],
   "source": [
    "#5. Create a program to iterate over dictionaries using loops and comprehensions, printing key-value pairs.\n",
    "dict = {'a': 500, 'b':800, 'c':300,'d':60} \n",
    "\n",
    "for key in dict:\n",
    "    print(key, dict[key])"
   ]
  },
  {
   "cell_type": "code",
   "execution_count": null,
   "id": "b113622e",
   "metadata": {},
   "outputs": [],
   "source": []
  }
 ],
 "metadata": {
  "kernelspec": {
   "display_name": "Python 3",
   "language": "python",
   "name": "python3"
  },
  "language_info": {
   "codemirror_mode": {
    "name": "ipython",
    "version": 3
   },
   "file_extension": ".py",
   "mimetype": "text/x-python",
   "name": "python",
   "nbconvert_exporter": "python",
   "pygments_lexer": "ipython3",
   "version": "3.8.8"
  }
 },
 "nbformat": 4,
 "nbformat_minor": 5
}
